{
 "cells": [
  {
   "cell_type": "markdown",
   "metadata": {},
   "source": [
    "### "
   ]
  },
  {
   "cell_type": "code",
   "execution_count": 1,
   "metadata": {},
   "outputs": [],
   "source": [
    "%config IPCompleter.greedy = True\n",
    "%config IPCompleter.use_jedi = False"
   ]
  },
  {
   "cell_type": "code",
   "execution_count": 2,
   "metadata": {},
   "outputs": [],
   "source": [
    "import pandas as pd\n",
    "import numpy as np\n",
    "import matplotlib.pyplot as plt\n",
    "import seaborn as sns\n",
    "from statistics import mean\n",
    "from sklearn import preprocessing\n",
    "from sklearn.neighbors import KNeighborsClassifier\n",
    "from sklearn.pipeline import Pipeline, make_pipeline\n",
    "from sklearn.preprocessing import StandardScaler, MinMaxScaler\n",
    "from sklearn.linear_model import LogisticRegression\n",
    "from sklearn.model_selection import train_test_split, cross_val_score, cross_validate, GridSearchCV\n",
    "from sklearn.metrics import make_scorer, f1_score, recall_score, precision_score, accuracy_score, fbeta_score, roc_auc_score\n",
    "from sklearn.decomposition import IncrementalPCA\n",
    "from collections import Counter\n",
    "from imblearn.combine import SMOTEENN\n",
    "from imblearn.under_sampling import EditedNearestNeighbours, NeighbourhoodCleaningRule\n",
    "from imblearn.over_sampling import SMOTE\n",
    "import math\n",
    "pd.set_option('display.max_columns', None)\n",
    "pd.options.mode.chained_assignment = None"
   ]
  },
  {
   "cell_type": "markdown",
   "metadata": {},
   "source": [
    "# "
   ]
  },
  {
   "cell_type": "markdown",
   "metadata": {},
   "source": [
    "### Function"
   ]
  },
  {
   "cell_type": "code",
   "execution_count": 3,
   "metadata": {},
   "outputs": [],
   "source": [
    "def visualization_func(X, y):\n",
    "    X = pd.DataFrame(X, columns=['p1', 'p2'])\n",
    "\n",
    "    X['AMS'] = y\n",
    "\n",
    "    X_ams = X[X['AMS'] == 1]\n",
    "    X_nams = X[X['AMS'] == 0]\n",
    "\n",
    "    X_ams.drop(['AMS'], axis=1, inplace=True)\n",
    "    X_nams.drop(['AMS'], axis=1, inplace=True)\n",
    "    \n",
    "    X_ams = X_ams.to_numpy()\n",
    "    X_nams = X_nams.to_numpy()\n",
    "    \n",
    "    plt.figure(figsize = (20, 6))\n",
    "    plt.subplot(1, 2, 1)\n",
    "    plt.scatter(X_ams[:,0], X_ams[:,1], c = 'yellow', edgecolors='k', label=\"AMS\")\n",
    "    plt.scatter(X_nams[:,0], X_nams[:,1], c = 'red', edgecolors='k', label='Non-AMS')\n",
    "    plt.xlabel('1st Principal Component')\n",
    "    plt.ylabel('2nd Principal Component')\n",
    "    plt.title('Training Set Scatter Plot with labels')\n",
    "    plt.legend()"
   ]
  },
  {
   "cell_type": "code",
   "execution_count": 4,
   "metadata": {},
   "outputs": [],
   "source": [
    "def tr_te_visualization_func(Xtr, Xte, ytr, yte, sem):\n",
    "    Xtr = pd.DataFrame(Xtr, columns=['p1', 'p2'])\n",
    "    Xte = pd.DataFrame(Xte, columns=['p1', 'p2'])\n",
    "\n",
    "    Xtr['AMS'], Xte['AMS'] = ytr, yte\n",
    "\n",
    "    Xtr_ams, Xtr_nams = Xtr[Xtr['AMS'] == 1], Xtr[Xtr['AMS'] == 0]\n",
    "    Xte_ams, Xte_nams = Xte[Xte['AMS'] == 1], Xte[Xte['AMS'] == 0]\n",
    "\n",
    "    Xtr_ams.drop(['AMS'], axis=1, inplace=True)\n",
    "    Xtr_nams.drop(['AMS'], axis=1, inplace=True)\n",
    "    Xte_ams.drop(['AMS'], axis=1, inplace=True)\n",
    "    Xte_nams.drop(['AMS'], axis=1, inplace=True)\n",
    "    \n",
    "    Xtr_ams, Xtr_nams = Xtr_ams.to_numpy(), Xtr_nams.to_numpy()\n",
    "    Xte_ams, Xte_nams = Xte_ams.to_numpy(), Xte_nams.to_numpy()\n",
    "       \n",
    "    \n",
    "    fig, ax = plt.subplots(1, 2, figsize=(15, 5), sharex=True, sharey=True)\n",
    "    fig.subplots_adjust(wspace=0)\n",
    "    #fig.suptitle('Training Set Individual Class Scatter Plot', y=0.95)\n",
    "    fig.supxlabel('1st Principal Component')\n",
    "    fig.supylabel('2nd Principal Component', x=0.09)\n",
    "    \n",
    "\n",
    "    ax[0].scatter(Xtr_nams[:,0], Xtr_nams[:,1], edgecolor='k', c='red', label='Non-AMS', zorder=3)\n",
    "    ax[0].scatter(Xtr_ams[:,0], Xtr_ams[:,1], edgecolor='k', c='yellow', label='AMS', zorder=3)\n",
    "    ax[0].grid(zorder=0, linewidth='.5')\n",
    "    ax[0].set_title(sem+' Train Scatter Plot')\n",
    "\n",
    "    ax[1].scatter(Xte_nams[:,0], Xte_nams[:,1], edgecolor='k', c='red', label='Non-AMS', zorder=3)\n",
    "    ax[1].scatter(Xte_ams[:,0], Xte_ams[:,1], edgecolor='k', c='yellow', label='AMS', zorder=3)\n",
    "    ax[1].grid(zorder=0, linewidth='.5')\n",
    "    ax[1].set_title(sem+' Test Scatter Plot')\n",
    "    ax[1].legend(loc='upper center', bbox_to_anchor=(0, .9), shadow=True)\n",
    "\n",
    "    plt.show()"
   ]
  },
  {
   "cell_type": "code",
   "execution_count": 5,
   "metadata": {},
   "outputs": [],
   "source": [
    "score_name = ['test_accuracy', 'test_precision', 'test_recall', 'test_f1_score']"
   ]
  },
  {
   "cell_type": "code",
   "execution_count": 6,
   "metadata": {},
   "outputs": [
    {
     "name": "stdout",
     "output_type": "stream",
     "text": [
      "<class 'str'>\n",
      "<class 'str'>\n",
      "<class 'str'>\n",
      "<class 'str'>\n"
     ]
    }
   ],
   "source": [
    "for i in score_name:\n",
    "    print(type(i))"
   ]
  },
  {
   "cell_type": "code",
   "execution_count": 7,
   "metadata": {},
   "outputs": [],
   "source": [
    "def logres_default_validation_func(X_trsm, y_trsm, sem):\n",
    "\n",
    "    log_score_sc = cross_validate(log_pipe, X_trsm, y_trsm, cv=10, scoring=scoring)\n",
    "        \n",
    "    score = []\n",
    "    score.append(sem)\n",
    "    for i in score_name:\n",
    "        score.append('{:.4f}'.format(log_score_sc[i].mean()))\n",
    "        \n",
    "    return score"
   ]
  },
  {
   "cell_type": "code",
   "execution_count": 8,
   "metadata": {},
   "outputs": [],
   "source": [
    "def logres_hyparam_tuning_func(X_trsm, y_trsm, scoring, sem):\n",
    "    log_pipe = Pipeline([('logres', LogisticRegression())])\n",
    "    log_params = [{'logres__max_iter' : [500, 1000, 5000],\n",
    "                   'logres__C' : [1e-5, 1e-3, 1e-1, 1e0, 1e1, 1e2]}]\n",
    "    grid_log = GridSearchCV(log_pipe, param_grid=log_params, cv=10, scoring=scoring)\n",
    "    \n",
    "    grid_log.fit(X_trsm, y_trsm)\n",
    "      \n",
    "    hparam = []\n",
    "    hparam.append(sem)\n",
    "    for i in grid_log.best_params_.keys():\n",
    "        hparam.append(grid_log.best_params_[i])\n",
    "    hparam.append('{:.3f}'.format(grid_log.best_score_))\n",
    "    \n",
    "    return hparam"
   ]
  },
  {
   "cell_type": "code",
   "execution_count": 9,
   "metadata": {},
   "outputs": [],
   "source": [
    "def logres_fit_hyparam_func(X_trsm, y_trsm, C, max_iter, sem):\n",
    "    log_pipe = Pipeline([('logres', LogisticRegression(C=C, max_iter=max_iter))])\n",
    "\n",
    "    log_score_sc = cross_validate(log_pipe, X_trsm, y_trsm, cv=10, scoring=scoring)\n",
    "        \n",
    "    score = []\n",
    "    score.append(sem)\n",
    "    for i in score_name:\n",
    "        score.append('{:.4f}'.format(log_score_sc[i].mean()))\n",
    "    \n",
    "    return score"
   ]
  },
  {
   "cell_type": "code",
   "execution_count": 10,
   "metadata": {},
   "outputs": [],
   "source": [
    "def knn_default_validation_func(X_trsm, y_trsm, sem):\n",
    "    knn_scores = cross_validate(knn_pipe, X_trsm, y_trsm, cv=10, scoring=scoring)\n",
    "    \n",
    "    score = []\n",
    "    score.append(sem)\n",
    "    for i in score_name:\n",
    "        score.append('{:.4f}'.format(knn_scores[i].mean()))\n",
    "        \n",
    "    return score"
   ]
  },
  {
   "cell_type": "code",
   "execution_count": 11,
   "metadata": {},
   "outputs": [],
   "source": [
    "def knn_hyparam_tuning_func(X_trsm, y_trsm, score, sem):\n",
    "    param_grid = dict(knn__n_neighbors=k_range, knn__weights=weight_options)\n",
    "    pipe = Pipeline([('knn', KNeighborsClassifier())])\n",
    "    grid_knn = GridSearchCV(pipe, param_grid, cv=10, scoring=score)\n",
    "    \n",
    "    grid_knn.fit(X_trsm, y_trsm)\n",
    "    \n",
    "    hparam = []\n",
    "    hparam.append(sem)\n",
    "    for i in grid_knn.best_params_.keys():\n",
    "        hparam.append(grid_knn.best_params_[i])\n",
    "    hparam.append('{:.3f}'.format(grid_knn.best_score_))\n",
    "    \n",
    "    return hparam"
   ]
  },
  {
   "cell_type": "code",
   "execution_count": 12,
   "metadata": {},
   "outputs": [],
   "source": [
    "def knn_fit_hyparam_func(X_trsm, y_trsm, n_neighbors, weights, sem):\n",
    "    pipe = Pipeline([('knn', KNeighborsClassifier(n_neighbors = n_neighbors, weights=weights))])\n",
    "\n",
    "    knn_scores = cross_validate(pipe, X_trsm, y_trsm, cv=10, scoring=scoring)\n",
    "\n",
    "    score = []\n",
    "    score.append(sem)\n",
    "    for i in score_name:\n",
    "        score.append('{:.4f}'.format(knn_scores[i].mean()))\n",
    "    \n",
    "    return score"
   ]
  },
  {
   "cell_type": "code",
   "execution_count": 13,
   "metadata": {},
   "outputs": [],
   "source": [
    "def test_score_func(model, X_te, y_te, sem):\n",
    "    res=model.predict(X_te)\n",
    "        \n",
    "    result = []\n",
    "    result.append(sem)\n",
    "    result.append('{:.4f}'.format(accuracy_score(y_te, res)))\n",
    "    result.append('{:.4f}'.format(precision_score(y_te, res)))\n",
    "    result.append('{:.4f}'.format(recall_score(y_te, res)))\n",
    "    result.append('{:.4f}'.format(f1_score(y_te, res)))\n",
    "    \n",
    "    return result"
   ]
  },
  {
   "cell_type": "markdown",
   "metadata": {},
   "source": [
    "# "
   ]
  },
  {
   "cell_type": "markdown",
   "metadata": {},
   "source": [
    "# "
   ]
  },
  {
   "cell_type": "code",
   "execution_count": null,
   "metadata": {},
   "outputs": [],
   "source": []
  },
  {
   "cell_type": "markdown",
   "metadata": {},
   "source": [
    "### 1. Load Data"
   ]
  },
  {
   "cell_type": "code",
   "execution_count": 14,
   "metadata": {},
   "outputs": [],
   "source": [
    "dsm = pd.read_csv('Datasets/tidy_khs_plus_presensi.csv')"
   ]
  },
  {
   "cell_type": "code",
   "execution_count": 15,
   "metadata": {},
   "outputs": [],
   "source": [
    "dsm.drop(['MhswID'], axis=1, inplace=True)"
   ]
  },
  {
   "cell_type": "code",
   "execution_count": 16,
   "metadata": {
    "scrolled": false
   },
   "outputs": [
    {
     "data": {
      "text/html": [
       "<div>\n",
       "<style scoped>\n",
       "    .dataframe tbody tr th:only-of-type {\n",
       "        vertical-align: middle;\n",
       "    }\n",
       "\n",
       "    .dataframe tbody tr th {\n",
       "        vertical-align: top;\n",
       "    }\n",
       "\n",
       "    .dataframe thead th {\n",
       "        text-align: right;\n",
       "    }\n",
       "</style>\n",
       "<table border=\"1\" class=\"dataframe\">\n",
       "  <thead>\n",
       "    <tr style=\"text-align: right;\">\n",
       "      <th></th>\n",
       "      <th>IPS1</th>\n",
       "      <th>IPS2</th>\n",
       "      <th>IPS3</th>\n",
       "      <th>IPS4</th>\n",
       "      <th>IPS5</th>\n",
       "      <th>IPS6</th>\n",
       "      <th>IPS7</th>\n",
       "      <th>IPS8</th>\n",
       "      <th>SKS1</th>\n",
       "      <th>SKS2</th>\n",
       "      <th>SKS3</th>\n",
       "      <th>SKS4</th>\n",
       "      <th>SKS5</th>\n",
       "      <th>SKS6</th>\n",
       "      <th>SKS7</th>\n",
       "      <th>SKS8</th>\n",
       "      <th>P1</th>\n",
       "      <th>P2</th>\n",
       "      <th>P3</th>\n",
       "      <th>P4</th>\n",
       "      <th>P5</th>\n",
       "      <th>P6</th>\n",
       "      <th>P7</th>\n",
       "      <th>P8</th>\n",
       "      <th>AMS</th>\n",
       "    </tr>\n",
       "  </thead>\n",
       "  <tbody>\n",
       "    <tr>\n",
       "      <th>1551</th>\n",
       "      <td>4.00</td>\n",
       "      <td>3.84</td>\n",
       "      <td>3.77</td>\n",
       "      <td>3.91</td>\n",
       "      <td>3.87</td>\n",
       "      <td>4.00</td>\n",
       "      <td>4.00</td>\n",
       "      <td>4.00</td>\n",
       "      <td>19</td>\n",
       "      <td>38</td>\n",
       "      <td>60</td>\n",
       "      <td>83</td>\n",
       "      <td>106</td>\n",
       "      <td>123</td>\n",
       "      <td>135</td>\n",
       "      <td>146</td>\n",
       "      <td>100.00</td>\n",
       "      <td>98.93</td>\n",
       "      <td>0.00</td>\n",
       "      <td>0.00</td>\n",
       "      <td>0.00</td>\n",
       "      <td>0.00</td>\n",
       "      <td>97.61</td>\n",
       "      <td>0.00</td>\n",
       "      <td>0</td>\n",
       "    </tr>\n",
       "    <tr>\n",
       "      <th>850</th>\n",
       "      <td>3.20</td>\n",
       "      <td>3.67</td>\n",
       "      <td>3.32</td>\n",
       "      <td>3.67</td>\n",
       "      <td>2.88</td>\n",
       "      <td>3.38</td>\n",
       "      <td>3.47</td>\n",
       "      <td>4.00</td>\n",
       "      <td>15</td>\n",
       "      <td>30</td>\n",
       "      <td>56</td>\n",
       "      <td>77</td>\n",
       "      <td>107</td>\n",
       "      <td>131</td>\n",
       "      <td>147</td>\n",
       "      <td>147</td>\n",
       "      <td>94.10</td>\n",
       "      <td>94.94</td>\n",
       "      <td>91.77</td>\n",
       "      <td>86.17</td>\n",
       "      <td>0.00</td>\n",
       "      <td>0.00</td>\n",
       "      <td>0.00</td>\n",
       "      <td>0.00</td>\n",
       "      <td>0</td>\n",
       "    </tr>\n",
       "    <tr>\n",
       "      <th>1641</th>\n",
       "      <td>3.53</td>\n",
       "      <td>3.05</td>\n",
       "      <td>3.68</td>\n",
       "      <td>2.71</td>\n",
       "      <td>3.26</td>\n",
       "      <td>3.68</td>\n",
       "      <td>3.20</td>\n",
       "      <td>4.00</td>\n",
       "      <td>19</td>\n",
       "      <td>38</td>\n",
       "      <td>60</td>\n",
       "      <td>78</td>\n",
       "      <td>101</td>\n",
       "      <td>120</td>\n",
       "      <td>139</td>\n",
       "      <td>146</td>\n",
       "      <td>95.36</td>\n",
       "      <td>97.77</td>\n",
       "      <td>0.00</td>\n",
       "      <td>0.00</td>\n",
       "      <td>0.00</td>\n",
       "      <td>0.00</td>\n",
       "      <td>82.38</td>\n",
       "      <td>0.00</td>\n",
       "      <td>0</td>\n",
       "    </tr>\n",
       "    <tr>\n",
       "      <th>969</th>\n",
       "      <td>2.42</td>\n",
       "      <td>3.00</td>\n",
       "      <td>2.39</td>\n",
       "      <td>2.74</td>\n",
       "      <td>2.84</td>\n",
       "      <td>3.32</td>\n",
       "      <td>2.36</td>\n",
       "      <td>4.00</td>\n",
       "      <td>11</td>\n",
       "      <td>24</td>\n",
       "      <td>44</td>\n",
       "      <td>57</td>\n",
       "      <td>82</td>\n",
       "      <td>101</td>\n",
       "      <td>131</td>\n",
       "      <td>135</td>\n",
       "      <td>98.08</td>\n",
       "      <td>98.21</td>\n",
       "      <td>95.99</td>\n",
       "      <td>87.06</td>\n",
       "      <td>0.00</td>\n",
       "      <td>0.00</td>\n",
       "      <td>0.00</td>\n",
       "      <td>0.00</td>\n",
       "      <td>1</td>\n",
       "    </tr>\n",
       "    <tr>\n",
       "      <th>2643</th>\n",
       "      <td>2.11</td>\n",
       "      <td>2.53</td>\n",
       "      <td>2.35</td>\n",
       "      <td>3.05</td>\n",
       "      <td>3.41</td>\n",
       "      <td>2.78</td>\n",
       "      <td>3.14</td>\n",
       "      <td>3.14</td>\n",
       "      <td>8</td>\n",
       "      <td>19</td>\n",
       "      <td>37</td>\n",
       "      <td>56</td>\n",
       "      <td>76</td>\n",
       "      <td>93</td>\n",
       "      <td>117</td>\n",
       "      <td>128</td>\n",
       "      <td>94.13</td>\n",
       "      <td>0.00</td>\n",
       "      <td>0.00</td>\n",
       "      <td>0.00</td>\n",
       "      <td>91.92</td>\n",
       "      <td>93.87</td>\n",
       "      <td>0.00</td>\n",
       "      <td>93.21</td>\n",
       "      <td>1</td>\n",
       "    </tr>\n",
       "  </tbody>\n",
       "</table>\n",
       "</div>"
      ],
      "text/plain": [
       "      IPS1  IPS2  IPS3  IPS4  IPS5  IPS6  IPS7  IPS8  SKS1  SKS2  SKS3  SKS4  \\\n",
       "1551  4.00  3.84  3.77  3.91  3.87  4.00  4.00  4.00    19    38    60    83   \n",
       "850   3.20  3.67  3.32  3.67  2.88  3.38  3.47  4.00    15    30    56    77   \n",
       "1641  3.53  3.05  3.68  2.71  3.26  3.68  3.20  4.00    19    38    60    78   \n",
       "969   2.42  3.00  2.39  2.74  2.84  3.32  2.36  4.00    11    24    44    57   \n",
       "2643  2.11  2.53  2.35  3.05  3.41  2.78  3.14  3.14     8    19    37    56   \n",
       "\n",
       "      SKS5  SKS6  SKS7  SKS8      P1     P2     P3     P4     P5     P6  \\\n",
       "1551   106   123   135   146  100.00  98.93   0.00   0.00   0.00   0.00   \n",
       "850    107   131   147   147   94.10  94.94  91.77  86.17   0.00   0.00   \n",
       "1641   101   120   139   146   95.36  97.77   0.00   0.00   0.00   0.00   \n",
       "969     82   101   131   135   98.08  98.21  95.99  87.06   0.00   0.00   \n",
       "2643    76    93   117   128   94.13   0.00   0.00   0.00  91.92  93.87   \n",
       "\n",
       "         P7     P8  AMS  \n",
       "1551  97.61   0.00    0  \n",
       "850    0.00   0.00    0  \n",
       "1641  82.38   0.00    0  \n",
       "969    0.00   0.00    1  \n",
       "2643   0.00  93.21    1  "
      ]
     },
     "execution_count": 16,
     "metadata": {},
     "output_type": "execute_result"
    }
   ],
   "source": [
    "dsm.sample(5)"
   ]
  },
  {
   "cell_type": "code",
   "execution_count": 17,
   "metadata": {},
   "outputs": [
    {
     "name": "stdout",
     "output_type": "stream",
     "text": [
      "Number of Cols:  25\n",
      "Number of Rows:  3162\n"
     ]
    }
   ],
   "source": [
    "print('Number of Cols: ', dsm.shape[1])\n",
    "print('Number of Rows: ', dsm.shape[0])"
   ]
  },
  {
   "cell_type": "markdown",
   "metadata": {},
   "source": [
    "&emsp;&emsp; From the sample data above we can see there are 25 feature columns in total, 24 are input variables and 1 output (target) variable. The output is `AMS` column, and the rest are the inputs. The `IPS` columns are representing GPA in a particular semester. `SKS` columns are the sum of semester credit completed up to the indicated semester. `P` columns are the mean of student attendance in a particular semester. The number (1 to 8) in every columns indicating the semester number.<br>\n",
    "&emsp;&emsp; `AMS` columns, stands for Akhir Masa Studi, is the target variable. Student that need more than 11 semester to complete their study classified as 1 or positive class, otherwise, 0 or negative class."
   ]
  },
  {
   "cell_type": "markdown",
   "metadata": {},
   "source": [
    "#### "
   ]
  },
  {
   "cell_type": "markdown",
   "metadata": {},
   "source": [
    "#### Drop Presensi Data"
   ]
  },
  {
   "cell_type": "markdown",
   "metadata": {},
   "source": [
    "&emsp;&emsp; Take a look at the sample data, it's easy to notice a bunch of 0s (missing value) in the `P` feature columns. We want to know how many are the 0s exist in the dataset as it require different approach to solve the problem depending to the amount of the missing value."
   ]
  },
  {
   "cell_type": "code",
   "execution_count": 18,
   "metadata": {},
   "outputs": [],
   "source": [
    "dim_value = []\n",
    "for i in dsm.columns[16:24]:\n",
    "    dim_value.append((dsm[i].values == 0).sum())"
   ]
  },
  {
   "cell_type": "code",
   "execution_count": 19,
   "metadata": {},
   "outputs": [
    {
     "data": {
      "image/png": "[encoded data removed]",
      "text/plain": [
       "<Figure size 432x288 with 1 Axes>"
      ]
     },
     "metadata": {
      "needs_background": "light"
     },
     "output_type": "display_data"
    }
   ],
   "source": [
    "#Visualize number of 0s in P feature columns\n",
    "\n",
    "fig = plt.Figure(figsize=(4,2))\n",
    "ax = fig.add_axes([0,0,1,1])\n",
    "dimension = dsm.columns[16:24]\n",
    "plt.bar(dimension, dim_value, zorder=2, color='steelblue', edgecolor='black')\n",
    "plt.xlabel('Number of 0s')\n",
    "plt.title('Number of 0s in Every P Feature Column, avg : '+str(mean(dim_value)))\n",
    "plt.grid(linestyle='--', linewidth=0.5, color='gray', zorder=0)\n",
    "plt.ylim(0, dsm.shape[0])\n",
    "for i in range(len(dimension)):\n",
    "    plt.text(i, dim_value[i], dim_value[i], ha='center', va='bottom')\n",
    "\n",
    "plt.show()"
   ]
  },
  {
   "cell_type": "markdown",
   "metadata": {},
   "source": [
    "&emsp;&emsp; As we can see from the visualization above, there are **A LOT** of missing value from the `P` feature column. With 1398 average missing value from each `P` column, a reasonable course of action would be dropping all the `P` feature column."
   ]
  },
  {
   "cell_type": "code",
   "execution_count": 20,
   "metadata": {},
   "outputs": [
    {
     "data": {
      "text/plain": [
       "11185"
      ]
     },
     "execution_count": 20,
     "metadata": {},
     "output_type": "execute_result"
    }
   ],
   "source": [
    "(dsm[dsm.columns[16:24]].values == 0).sum()"
   ]
  },
  {
   "cell_type": "code",
   "execution_count": 21,
   "metadata": {},
   "outputs": [],
   "source": [
    "# Create new pandas dataframe\n",
    "\n",
    "X_data = dsm.iloc[:, :-9] #input variables excluding P columns and output variable\n",
    "y_data = dsm['AMS'] #output variable"
   ]
  },
  {
   "cell_type": "code",
   "execution_count": 22,
   "metadata": {
    "scrolled": true
   },
   "outputs": [
    {
     "data": {
      "text/html": [
       "<div>\n",
       "<style scoped>\n",
       "    .dataframe tbody tr th:only-of-type {\n",
       "        vertical-align: middle;\n",
       "    }\n",
       "\n",
       "    .dataframe tbody tr th {\n",
       "        vertical-align: top;\n",
       "    }\n",
       "\n",
       "    .dataframe thead th {\n",
       "        text-align: right;\n",
       "    }\n",
       "</style>\n",
       "<table border=\"1\" class=\"dataframe\">\n",
       "  <thead>\n",
       "    <tr style=\"text-align: right;\">\n",
       "      <th></th>\n",
       "      <th>IPS1</th>\n",
       "      <th>IPS2</th>\n",
       "      <th>IPS3</th>\n",
       "      <th>IPS4</th>\n",
       "      <th>IPS5</th>\n",
       "      <th>IPS6</th>\n",
       "      <th>IPS7</th>\n",
       "      <th>IPS8</th>\n",
       "      <th>SKS1</th>\n",
       "      <th>SKS2</th>\n",
       "      <th>SKS3</th>\n",
       "      <th>SKS4</th>\n",
       "      <th>SKS5</th>\n",
       "      <th>SKS6</th>\n",
       "      <th>SKS7</th>\n",
       "      <th>SKS8</th>\n",
       "    </tr>\n",
       "  </thead>\n",
       "  <tbody>\n",
       "    <tr>\n",
       "      <th>0</th>\n",
       "      <td>3.15</td>\n",
       "      <td>2.53</td>\n",
       "      <td>2.16</td>\n",
       "      <td>2.48</td>\n",
       "      <td>2.75</td>\n",
       "      <td>2.63</td>\n",
       "      <td>2.69</td>\n",
       "      <td>1.80</td>\n",
       "      <td>17</td>\n",
       "      <td>31</td>\n",
       "      <td>44</td>\n",
       "      <td>62</td>\n",
       "      <td>81</td>\n",
       "      <td>97</td>\n",
       "      <td>119</td>\n",
       "      <td>123</td>\n",
       "    </tr>\n",
       "    <tr>\n",
       "      <th>1</th>\n",
       "      <td>1.82</td>\n",
       "      <td>3.18</td>\n",
       "      <td>3.67</td>\n",
       "      <td>3.55</td>\n",
       "      <td>4.00</td>\n",
       "      <td>3.57</td>\n",
       "      <td>4.00</td>\n",
       "      <td>4.00</td>\n",
       "      <td>55</td>\n",
       "      <td>74</td>\n",
       "      <td>101</td>\n",
       "      <td>121</td>\n",
       "      <td>129</td>\n",
       "      <td>136</td>\n",
       "      <td>138</td>\n",
       "      <td>142</td>\n",
       "    </tr>\n",
       "    <tr>\n",
       "      <th>2</th>\n",
       "      <td>2.54</td>\n",
       "      <td>2.74</td>\n",
       "      <td>1.83</td>\n",
       "      <td>2.67</td>\n",
       "      <td>2.50</td>\n",
       "      <td>2.57</td>\n",
       "      <td>2.43</td>\n",
       "      <td>2.00</td>\n",
       "      <td>23</td>\n",
       "      <td>42</td>\n",
       "      <td>52</td>\n",
       "      <td>70</td>\n",
       "      <td>88</td>\n",
       "      <td>102</td>\n",
       "      <td>112</td>\n",
       "      <td>122</td>\n",
       "    </tr>\n",
       "    <tr>\n",
       "      <th>3</th>\n",
       "      <td>3.75</td>\n",
       "      <td>3.53</td>\n",
       "      <td>3.25</td>\n",
       "      <td>4.00</td>\n",
       "      <td>3.55</td>\n",
       "      <td>3.36</td>\n",
       "      <td>3.67</td>\n",
       "      <td>2.86</td>\n",
       "      <td>20</td>\n",
       "      <td>39</td>\n",
       "      <td>59</td>\n",
       "      <td>78</td>\n",
       "      <td>98</td>\n",
       "      <td>120</td>\n",
       "      <td>135</td>\n",
       "      <td>139</td>\n",
       "    </tr>\n",
       "    <tr>\n",
       "      <th>4</th>\n",
       "      <td>3.15</td>\n",
       "      <td>2.95</td>\n",
       "      <td>3.10</td>\n",
       "      <td>2.84</td>\n",
       "      <td>3.00</td>\n",
       "      <td>3.10</td>\n",
       "      <td>3.00</td>\n",
       "      <td>3.00</td>\n",
       "      <td>17</td>\n",
       "      <td>33</td>\n",
       "      <td>50</td>\n",
       "      <td>69</td>\n",
       "      <td>95</td>\n",
       "      <td>115</td>\n",
       "      <td>130</td>\n",
       "      <td>140</td>\n",
       "    </tr>\n",
       "  </tbody>\n",
       "</table>\n",
       "</div>"
      ],
      "text/plain": [
       "   IPS1  IPS2  IPS3  IPS4  IPS5  IPS6  IPS7  IPS8  SKS1  SKS2  SKS3  SKS4  \\\n",
       "0  3.15  2.53  2.16  2.48  2.75  2.63  2.69  1.80    17    31    44    62   \n",
       "1  1.82  3.18  3.67  3.55  4.00  3.57  4.00  4.00    55    74   101   121   \n",
       "2  2.54  2.74  1.83  2.67  2.50  2.57  2.43  2.00    23    42    52    70   \n",
       "3  3.75  3.53  3.25  4.00  3.55  3.36  3.67  2.86    20    39    59    78   \n",
       "4  3.15  2.95  3.10  2.84  3.00  3.10  3.00  3.00    17    33    50    69   \n",
       "\n",
       "   SKS5  SKS6  SKS7  SKS8  \n",
       "0    81    97   119   123  \n",
       "1   129   136   138   142  \n",
       "2    88   102   112   122  \n",
       "3    98   120   135   139  \n",
       "4    95   115   130   140  "
      ]
     },
     "execution_count": 22,
     "metadata": {},
     "output_type": "execute_result"
    }
   ],
   "source": [
    "X_data.head()"
   ]
  },
  {
   "cell_type": "markdown",
   "metadata": {},
   "source": [
    "### "
   ]
  },
  {
   "cell_type": "markdown",
   "metadata": {},
   "source": [
    "### 2. Dimensionality Reduction"
   ]
  },
  {
   "cell_type": "markdown",
   "metadata": {},
   "source": [
    "&emsp;&emsp;We want to know how the model classify positive class from negative one. One way to find out is through **Decision Boundary**, a visualization showing thin surface dividing vector space into two or more region, one for each class. Data point that falls into a region classified into the class in which the region belong. To effectively display how the model works using decision boundary we need to reduce the dimension (feature column) in the dataset as it is hard to create scatter plot of data that has more than two features.<br><br>&emsp;&emsp;This can be done by using dimensionality reduction algorithm, one popular algorithm is **Principal Component Analisys**. PCA is affected by data scale, so we need to scale the features in the data before implementing PCA, this can be done by `StandardScaler` function to standardize the dataset’s features onto unit scale"
   ]
  },
  {
   "cell_type": "markdown",
   "metadata": {},
   "source": [
    "#### Scale data"
   ]
  },
  {
   "cell_type": "code",
   "execution_count": 23,
   "metadata": {},
   "outputs": [
    {
     "data": {
      "text/html": [
       "<div>\n",
       "<style scoped>\n",
       "    .dataframe tbody tr th:only-of-type {\n",
       "        vertical-align: middle;\n",
       "    }\n",
       "\n",
       "    .dataframe tbody tr th {\n",
       "        vertical-align: top;\n",
       "    }\n",
       "\n",
       "    .dataframe thead th {\n",
       "        text-align: right;\n",
       "    }\n",
       "</style>\n",
       "<table border=\"1\" class=\"dataframe\">\n",
       "  <thead>\n",
       "    <tr style=\"text-align: right;\">\n",
       "      <th></th>\n",
       "      <th>IPS1</th>\n",
       "      <th>IPS2</th>\n",
       "      <th>IPS3</th>\n",
       "      <th>IPS4</th>\n",
       "      <th>IPS5</th>\n",
       "      <th>IPS6</th>\n",
       "      <th>IPS7</th>\n",
       "      <th>IPS8</th>\n",
       "      <th>SKS1</th>\n",
       "      <th>SKS2</th>\n",
       "      <th>SKS3</th>\n",
       "      <th>SKS4</th>\n",
       "      <th>SKS5</th>\n",
       "      <th>SKS6</th>\n",
       "      <th>SKS7</th>\n",
       "      <th>SKS8</th>\n",
       "    </tr>\n",
       "  </thead>\n",
       "  <tbody>\n",
       "    <tr>\n",
       "      <th>0</th>\n",
       "      <td>0.260334</td>\n",
       "      <td>-1.201233</td>\n",
       "      <td>-1.526388</td>\n",
       "      <td>-1.060637</td>\n",
       "      <td>-0.682509</td>\n",
       "      <td>-1.024363</td>\n",
       "      <td>-0.990619</td>\n",
       "      <td>-2.610546</td>\n",
       "      <td>-0.048420</td>\n",
       "      <td>-0.411416</td>\n",
       "      <td>-1.036729</td>\n",
       "      <td>-0.700799</td>\n",
       "      <td>-0.817486</td>\n",
       "      <td>-0.765925</td>\n",
       "      <td>-0.539904</td>\n",
       "      <td>-0.949764</td>\n",
       "    </tr>\n",
       "    <tr>\n",
       "      <th>1</th>\n",
       "      <td>-2.464867</td>\n",
       "      <td>0.101476</td>\n",
       "      <td>1.350972</td>\n",
       "      <td>1.083745</td>\n",
       "      <td>1.798264</td>\n",
       "      <td>0.768141</td>\n",
       "      <td>1.505373</td>\n",
       "      <td>0.983843</td>\n",
       "      <td>8.251013</td>\n",
       "      <td>6.480124</td>\n",
       "      <td>5.686323</td>\n",
       "      <td>4.424641</td>\n",
       "      <td>2.642296</td>\n",
       "      <td>1.675461</td>\n",
       "      <td>0.781333</td>\n",
       "      <td>0.549958</td>\n",
       "    </tr>\n",
       "    <tr>\n",
       "      <th>2</th>\n",
       "      <td>-0.989571</td>\n",
       "      <td>-0.780358</td>\n",
       "      <td>-2.155215</td>\n",
       "      <td>-0.679859</td>\n",
       "      <td>-1.178664</td>\n",
       "      <td>-1.138779</td>\n",
       "      <td>-1.486006</td>\n",
       "      <td>-2.283783</td>\n",
       "      <td>1.262017</td>\n",
       "      <td>1.351536</td>\n",
       "      <td>-0.093143</td>\n",
       "      <td>-0.005824</td>\n",
       "      <td>-0.312934</td>\n",
       "      <td>-0.452927</td>\n",
       "      <td>-1.026676</td>\n",
       "      <td>-1.028697</td>\n",
       "    </tr>\n",
       "    <tr>\n",
       "      <th>3</th>\n",
       "      <td>1.489748</td>\n",
       "      <td>0.802935</td>\n",
       "      <td>0.550647</td>\n",
       "      <td>1.985588</td>\n",
       "      <td>0.905186</td>\n",
       "      <td>0.367688</td>\n",
       "      <td>0.876612</td>\n",
       "      <td>-0.878704</td>\n",
       "      <td>0.606799</td>\n",
       "      <td>0.870731</td>\n",
       "      <td>0.732495</td>\n",
       "      <td>0.689151</td>\n",
       "      <td>0.407854</td>\n",
       "      <td>0.673867</td>\n",
       "      <td>0.572717</td>\n",
       "      <td>0.313160</td>\n",
       "    </tr>\n",
       "    <tr>\n",
       "      <th>4</th>\n",
       "      <td>0.260334</td>\n",
       "      <td>-0.359482</td>\n",
       "      <td>0.264817</td>\n",
       "      <td>-0.339162</td>\n",
       "      <td>-0.186355</td>\n",
       "      <td>-0.128111</td>\n",
       "      <td>-0.399964</td>\n",
       "      <td>-0.649970</td>\n",
       "      <td>-0.048420</td>\n",
       "      <td>-0.090880</td>\n",
       "      <td>-0.329039</td>\n",
       "      <td>-0.092696</td>\n",
       "      <td>0.191617</td>\n",
       "      <td>0.360869</td>\n",
       "      <td>0.225022</td>\n",
       "      <td>0.392092</td>\n",
       "    </tr>\n",
       "  </tbody>\n",
       "</table>\n",
       "</div>"
      ],
      "text/plain": [
       "       IPS1      IPS2      IPS3      IPS4      IPS5      IPS6      IPS7  \\\n",
       "0  0.260334 -1.201233 -1.526388 -1.060637 -0.682509 -1.024363 -0.990619   \n",
       "1 -2.464867  0.101476  1.350972  1.083745  1.798264  0.768141  1.505373   \n",
       "2 -0.989571 -0.780358 -2.155215 -0.679859 -1.178664 -1.138779 -1.486006   \n",
       "3  1.489748  0.802935  0.550647  1.985588  0.905186  0.367688  0.876612   \n",
       "4  0.260334 -0.359482  0.264817 -0.339162 -0.186355 -0.128111 -0.399964   \n",
       "\n",
       "       IPS8      SKS1      SKS2      SKS3      SKS4      SKS5      SKS6  \\\n",
       "0 -2.610546 -0.048420 -0.411416 -1.036729 -0.700799 -0.817486 -0.765925   \n",
       "1  0.983843  8.251013  6.480124  5.686323  4.424641  2.642296  1.675461   \n",
       "2 -2.283783  1.262017  1.351536 -0.093143 -0.005824 -0.312934 -0.452927   \n",
       "3 -0.878704  0.606799  0.870731  0.732495  0.689151  0.407854  0.673867   \n",
       "4 -0.649970 -0.048420 -0.090880 -0.329039 -0.092696  0.191617  0.360869   \n",
       "\n",
       "       SKS7      SKS8  \n",
       "0 -0.539904 -0.949764  \n",
       "1  0.781333  0.549958  \n",
       "2 -1.026676 -1.028697  \n",
       "3  0.572717  0.313160  \n",
       "4  0.225022  0.392092  "
      ]
     },
     "execution_count": 23,
     "metadata": {},
     "output_type": "execute_result"
    }
   ],
   "source": [
    "stdx = StandardScaler()\n",
    "X_sc = stdx.fit_transform(X_data)\n",
    "X_sc = pd.DataFrame(X_sc, columns=X_data.columns)\n",
    "X_sc.head()"
   ]
  },
  {
   "cell_type": "markdown",
   "metadata": {},
   "source": [
    "##### "
   ]
  },
  {
   "cell_type": "markdown",
   "metadata": {},
   "source": [
    "#### Split data by semester then add to dictionary"
   ]
  },
  {
   "cell_type": "markdown",
   "metadata": {},
   "source": [
    "We want to test if the model have a good performance using dataset with reduced feature, so we copy the dataset into multiple dataset with reduced feature each. `data['S4']` contain all the feature up to fourth semester, `data['S5']` contain all the feature up to fifth semester, and so on."
   ]
  },
  {
   "cell_type": "code",
   "execution_count": 24,
   "metadata": {},
   "outputs": [],
   "source": [
    "data = {}\n",
    "data['S8'] = X_sc\n",
    "data['S7'] = X_sc.drop(['SKS8', 'IPS8'], axis=1)\n",
    "data['S6'] = data['S7'].drop(['SKS7', 'IPS7'], axis=1)\n",
    "data['S5'] = data['S6'].drop(['SKS6', 'IPS6'], axis=1)\n",
    "data['S4'] = data['S5'].drop(['SKS5', 'IPS5'], axis=1)"
   ]
  },
  {
   "cell_type": "code",
   "execution_count": 25,
   "metadata": {},
   "outputs": [
    {
     "data": {
      "text/html": [
       "<div>\n",
       "<style scoped>\n",
       "    .dataframe tbody tr th:only-of-type {\n",
       "        vertical-align: middle;\n",
       "    }\n",
       "\n",
       "    .dataframe tbody tr th {\n",
       "        vertical-align: top;\n",
       "    }\n",
       "\n",
       "    .dataframe thead th {\n",
       "        text-align: right;\n",
       "    }\n",
       "</style>\n",
       "<table border=\"1\" class=\"dataframe\">\n",
       "  <thead>\n",
       "    <tr style=\"text-align: right;\">\n",
       "      <th></th>\n",
       "      <th>IPS1</th>\n",
       "      <th>IPS2</th>\n",
       "      <th>IPS3</th>\n",
       "      <th>IPS4</th>\n",
       "      <th>SKS1</th>\n",
       "      <th>SKS2</th>\n",
       "      <th>SKS3</th>\n",
       "      <th>SKS4</th>\n",
       "    </tr>\n",
       "  </thead>\n",
       "  <tbody>\n",
       "    <tr>\n",
       "      <th>0</th>\n",
       "      <td>0.260334</td>\n",
       "      <td>-1.201233</td>\n",
       "      <td>-1.526388</td>\n",
       "      <td>-1.060637</td>\n",
       "      <td>-0.048420</td>\n",
       "      <td>-0.411416</td>\n",
       "      <td>-1.036729</td>\n",
       "      <td>-0.700799</td>\n",
       "    </tr>\n",
       "    <tr>\n",
       "      <th>1</th>\n",
       "      <td>-2.464867</td>\n",
       "      <td>0.101476</td>\n",
       "      <td>1.350972</td>\n",
       "      <td>1.083745</td>\n",
       "      <td>8.251013</td>\n",
       "      <td>6.480124</td>\n",
       "      <td>5.686323</td>\n",
       "      <td>4.424641</td>\n",
       "    </tr>\n",
       "    <tr>\n",
       "      <th>2</th>\n",
       "      <td>-0.989571</td>\n",
       "      <td>-0.780358</td>\n",
       "      <td>-2.155215</td>\n",
       "      <td>-0.679859</td>\n",
       "      <td>1.262017</td>\n",
       "      <td>1.351536</td>\n",
       "      <td>-0.093143</td>\n",
       "      <td>-0.005824</td>\n",
       "    </tr>\n",
       "    <tr>\n",
       "      <th>3</th>\n",
       "      <td>1.489748</td>\n",
       "      <td>0.802935</td>\n",
       "      <td>0.550647</td>\n",
       "      <td>1.985588</td>\n",
       "      <td>0.606799</td>\n",
       "      <td>0.870731</td>\n",
       "      <td>0.732495</td>\n",
       "      <td>0.689151</td>\n",
       "    </tr>\n",
       "    <tr>\n",
       "      <th>4</th>\n",
       "      <td>0.260334</td>\n",
       "      <td>-0.359482</td>\n",
       "      <td>0.264817</td>\n",
       "      <td>-0.339162</td>\n",
       "      <td>-0.048420</td>\n",
       "      <td>-0.090880</td>\n",
       "      <td>-0.329039</td>\n",
       "      <td>-0.092696</td>\n",
       "    </tr>\n",
       "  </tbody>\n",
       "</table>\n",
       "</div>"
      ],
      "text/plain": [
       "       IPS1      IPS2      IPS3      IPS4      SKS1      SKS2      SKS3  \\\n",
       "0  0.260334 -1.201233 -1.526388 -1.060637 -0.048420 -0.411416 -1.036729   \n",
       "1 -2.464867  0.101476  1.350972  1.083745  8.251013  6.480124  5.686323   \n",
       "2 -0.989571 -0.780358 -2.155215 -0.679859  1.262017  1.351536 -0.093143   \n",
       "3  1.489748  0.802935  0.550647  1.985588  0.606799  0.870731  0.732495   \n",
       "4  0.260334 -0.359482  0.264817 -0.339162 -0.048420 -0.090880 -0.329039   \n",
       "\n",
       "       SKS4  \n",
       "0 -0.700799  \n",
       "1  4.424641  \n",
       "2 -0.005824  \n",
       "3  0.689151  \n",
       "4 -0.092696  "
      ]
     },
     "execution_count": 25,
     "metadata": {},
     "output_type": "execute_result"
    }
   ],
   "source": [
    "data['S4'].head()"
   ]
  },
  {
   "cell_type": "markdown",
   "metadata": {},
   "source": [
    "##### "
   ]
  },
  {
   "cell_type": "markdown",
   "metadata": {},
   "source": [
    "#### Implement PCA"
   ]
  },
  {
   "cell_type": "code",
   "execution_count": 26,
   "metadata": {},
   "outputs": [
    {
     "data": {
      "text/plain": [
       "0.7445441848093732"
      ]
     },
     "execution_count": 26,
     "metadata": {},
     "output_type": "execute_result"
    }
   ],
   "source": [
    "from sklearn.decomposition import PCA\n",
    "pca = PCA(n_components=2).fit(data['S8'])\n",
    "pca.explained_variance_ratio_.sum()"
   ]
  },
  {
   "cell_type": "markdown",
   "metadata": {},
   "source": [
    "After applying dimensionality reduction we managed to keep 74% information in the dataset"
   ]
  },
  {
   "cell_type": "code",
   "execution_count": 27,
   "metadata": {},
   "outputs": [],
   "source": [
    "pca = IncrementalPCA(n_components = 2)\n",
    "\n",
    "for i in reversed(range(4, 9)):\n",
    "    x = str(i)\n",
    "    data['S'+x] = pca.fit_transform(data['S'+x])"
   ]
  },
  {
   "cell_type": "code",
   "execution_count": 28,
   "metadata": {},
   "outputs": [
    {
     "data": {
      "text/html": [
       "<div>\n",
       "<style scoped>\n",
       "    .dataframe tbody tr th:only-of-type {\n",
       "        vertical-align: middle;\n",
       "    }\n",
       "\n",
       "    .dataframe tbody tr th {\n",
       "        vertical-align: top;\n",
       "    }\n",
       "\n",
       "    .dataframe thead th {\n",
       "        text-align: right;\n",
       "    }\n",
       "</style>\n",
       "<table border=\"1\" class=\"dataframe\">\n",
       "  <thead>\n",
       "    <tr style=\"text-align: right;\">\n",
       "      <th></th>\n",
       "      <th>1st Principal Component</th>\n",
       "      <th>2nd Principal Component</th>\n",
       "    </tr>\n",
       "  </thead>\n",
       "  <tbody>\n",
       "    <tr>\n",
       "      <th>0</th>\n",
       "      <td>-3.524456</td>\n",
       "      <td>1.039871</td>\n",
       "    </tr>\n",
       "    <tr>\n",
       "      <th>1</th>\n",
       "      <td>8.007402</td>\n",
       "      <td>9.175192</td>\n",
       "    </tr>\n",
       "    <tr>\n",
       "      <th>2</th>\n",
       "      <td>-2.922616</td>\n",
       "      <td>3.296821</td>\n",
       "    </tr>\n",
       "    <tr>\n",
       "      <th>3</th>\n",
       "      <td>2.727108</td>\n",
       "      <td>0.435558</td>\n",
       "    </tr>\n",
       "    <tr>\n",
       "      <th>4</th>\n",
       "      <td>-0.154772</td>\n",
       "      <td>0.155923</td>\n",
       "    </tr>\n",
       "  </tbody>\n",
       "</table>\n",
       "</div>"
      ],
      "text/plain": [
       "   1st Principal Component  2nd Principal Component\n",
       "0                -3.524456                 1.039871\n",
       "1                 8.007402                 9.175192\n",
       "2                -2.922616                 3.296821\n",
       "3                 2.727108                 0.435558\n",
       "4                -0.154772                 0.155923"
      ]
     },
     "execution_count": 28,
     "metadata": {},
     "output_type": "execute_result"
    }
   ],
   "source": [
    "dfpca = pd.DataFrame(data['S8'], columns=['1st Principal Component', '2nd Principal Component'])\n",
    "dfpca.head()"
   ]
  },
  {
   "cell_type": "code",
   "execution_count": 29,
   "metadata": {
    "scrolled": true
   },
   "outputs": [
    {
     "data": {
      "image/png": "[encoded data removed]",
      "text/plain": [
       "<Figure size 1080x360 with 2 Axes>"
      ]
     },
     "metadata": {
      "needs_background": "light"
     },
     "output_type": "display_data"
    }
   ],
   "source": [
    "X = pd.DataFrame(data['S8'], columns=['a', 'b'])\n",
    "X['y'] = y_data\n",
    "\n",
    "X_ams = X[X['y'] == 1]\n",
    "X_nams = X[X['y'] == 0]\n",
    "\n",
    "X_ams.drop(['y'], axis=1, inplace=True)\n",
    "X_nams.drop(['y'], axis=1, inplace=True)\n",
    "\n",
    "X_ams = X_ams.to_numpy()\n",
    "X_nams = X_nams.to_numpy()\n",
    "\n",
    "fig, ax = plt.subplots(1, 2, figsize=(15, 5), sharex=False, sharey=False)\n",
    "fig.subplots_adjust(wspace=.12)\n",
    "#fig.suptitle('Training Set Individual Class Scatter Plot', y=0.95)\n",
    "fig.supxlabel('1st Principal Component')\n",
    "\n",
    "ax[0].scatter(X_nams[:,0], X_nams[:,1], edgecolor='k', c='red', label='Non-AMS', zorder=3)\n",
    "ax[0].scatter(X_ams[:,0], X_ams[:,1], edgecolor='k', c='yellow', label='AMS', zorder=3)\n",
    "ax[0].set_ylabel('2nd Principal Component')\n",
    "ax[0].grid(zorder=0, linewidth='.5')\n",
    "ax[0].set_title('Principal Component Scatter Plot')\n",
    "ax[0].legend()\n",
    "\n",
    "ax[1].hist(X_nams[:,0], bins=50, edgecolor='k', alpha=.5, label='Non-AMS', zorder=3, histtype='stepfilled')\n",
    "ax[1].hist(X_ams[:,0], bins=50, edgecolor='k', alpha=.5, label='AMS', zorder=3, histtype='stepfilled')\n",
    "ax[1].set_ylabel('Frequency')\n",
    "ax[1].grid(zorder=0, linewidth='.3')\n",
    "ax[1].set_title('Class Occurrence Frequency')\n",
    "ax[1].legend(loc='upper left')\n",
    "\n",
    "plt.show()"
   ]
  },
  {
   "cell_type": "markdown",
   "metadata": {},
   "source": [
    "&emsp;&emsp;From the scatter plot shown above we can see that the data points from each class overlapping each other. If we were to draw a line dividing the region belong to each class, that would be a difficult task to do since we can't decide which class belong to which region. We can draw a conclusion that the data we have is quite uninformative or in other words, **we need more data**. But this is all the data we have, we'll see what we can do with it.<br><br>\n",
    "&emsp;&emsp;From the histogram on the right we can conclude that the distribution of class in the dataset is uneven, there are more negative class than the positive one. So it's safe for us to say that we have an imbalanced dataset. Both problem stated above can be solved with sampling method, spesifically, Hybrid Sampling method. Combining Oversampling and Undersampling method, we solve imbalanced dataset problem by oversampling the positive class then undersampling the whole dataset to reduce the overlapping data points to better distinguish the separation between class."
   ]
  },
  {
   "cell_type": "markdown",
   "metadata": {},
   "source": [
    "### 4. Split train test"
   ]
  },
  {
   "cell_type": "markdown",
   "metadata": {},
   "source": [
    "Before we applying the sampling method to the dataset, first we need to split the dataset into train and test set. We only apply the sampling method to the train set since we need the test set to really representing real world data so we can't apply any change to the set."
   ]
  },
  {
   "cell_type": "code",
   "execution_count": 30,
   "metadata": {},
   "outputs": [],
   "source": [
    "for i in range(4,9):\n",
    "    x = str(i)\n",
    "    data['Xtr'+x], data['Xte'+x], data['ytr'+x], data['yte'+x] = train_test_split(data['S'+x], y_data, \n",
    "                                                                                  test_size=0.2, random_state=1234)"
   ]
  },
  {
   "cell_type": "code",
   "execution_count": 31,
   "metadata": {},
   "outputs": [
    {
     "name": "stdout",
     "output_type": "stream",
     "text": [
      "Train size : 2529\n",
      "Test size : 633\n"
     ]
    }
   ],
   "source": [
    "print('Train size :', len(data['ytr8']))\n",
    "print('Test size :', len(data['yte8']))"
   ]
  },
  {
   "cell_type": "code",
   "execution_count": 32,
   "metadata": {
    "scrolled": false
   },
   "outputs": [
    {
     "data": {
      "image/png": "[encoded data removed]",
      "text/plain": [
       "<Figure size 1080x360 with 2 Axes>"
      ]
     },
     "metadata": {
      "needs_background": "light"
     },
     "output_type": "display_data"
    }
   ],
   "source": [
    "tr_te_visualization_func(data['Xtr8'], data['Xte8'], data['ytr8'], data['yte8'], 'Sem 8')"
   ]
  },
  {
   "cell_type": "markdown",
   "metadata": {},
   "source": [
    "### 5. Implement SMOTEENN on training data"
   ]
  },
  {
   "cell_type": "markdown",
   "metadata": {},
   "source": [
    "SMOTEENN is a hybrid sampling method combining SMOTE, an oversampling method, and ENN, undersampling method."
   ]
  },
  {
   "cell_type": "code",
   "execution_count": 33,
   "metadata": {},
   "outputs": [
    {
     "name": "stdout",
     "output_type": "stream",
     "text": [
      "Before SMOTEENN : Counter({0: 2026, 1: 503})\n"
     ]
    }
   ],
   "source": [
    "counter = Counter(data['ytr8'])\n",
    "print('Before SMOTEENN :', counter)"
   ]
  },
  {
   "cell_type": "code",
   "execution_count": 34,
   "metadata": {},
   "outputs": [],
   "source": [
    "smotetm = SMOTEENN()\n",
    "\n",
    "for i in range(4, 9):\n",
    "    x = str(i)\n",
    "    data['Xtrsm'+x], data['ytrsm'+x] = smotetm.fit_resample(data['Xtr'+x], data['ytr'+x])"
   ]
  },
  {
   "cell_type": "markdown",
   "metadata": {},
   "source": [
    "#### Save SMOTEENN processed data to file - Skip to Load if data already saved as file"
   ]
  },
  {
   "cell_type": "code",
   "execution_count": 35,
   "metadata": {},
   "outputs": [],
   "source": [
    "for i in reversed(range(4, 9)):\n",
    "    x = str(i)\n",
    "    pd.concat([pd.DataFrame(data['Xtrsm'+x]), pd.DataFrame(data['ytrsm'+x])],\n",
    "          axis=1).to_csv('Datasets/SMOTEENN/trsm'+x+'.csv', index=False)"
   ]
  },
  {
   "cell_type": "markdown",
   "metadata": {},
   "source": [
    "#### Load SMOTEENN processed data from file"
   ]
  },
  {
   "cell_type": "code",
   "execution_count": 36,
   "metadata": {},
   "outputs": [],
   "source": [
    "for i in range(4,9):\n",
    "    x = str(i)\n",
    "    data['Xtrsm'+x] = pd.read_csv('Datasets/SMOTEENN/trsm'+x+'.csv', usecols=['0', '1']).to_numpy()\n",
    "    data['ytrsm'+x] = pd.read_csv('Datasets/SMOTEENN/trsm'+x+'.csv', usecols=['AMS']).squeeze()\n"
   ]
  },
  {
   "cell_type": "code",
   "execution_count": 37,
   "metadata": {},
   "outputs": [
    {
     "name": "stdout",
     "output_type": "stream",
     "text": [
      "After SMOTEENN : Counter({1: 1231, 0: 1092})\n"
     ]
    }
   ],
   "source": [
    "counter = Counter(data['ytrsm8'])\n",
    "print('After SMOTEENN :', counter)"
   ]
  },
  {
   "cell_type": "code",
   "execution_count": 38,
   "metadata": {
    "scrolled": false
   },
   "outputs": [
    {
     "data": {
      "image/png": "[encoded data removed]",
      "text/plain": [
       "<Figure size 1080x360 with 2 Axes>"
      ]
     },
     "metadata": {
      "needs_background": "light"
     },
     "output_type": "display_data"
    }
   ],
   "source": [
    "tr_te_visualization_func(data['Xtrsm8'], data['Xte8'], data['ytrsm8'], data['yte8'], 'S8')"
   ]
  },
  {
   "cell_type": "markdown",
   "metadata": {},
   "source": [
    "After applying SMOTEENN we can see significant change in class ratio. Other than that we can see in the left scatter plot that there is more clear separation between classes."
   ]
  },
  {
   "cell_type": "markdown",
   "metadata": {},
   "source": [
    "### Default Config Logres"
   ]
  },
  {
   "cell_type": "code",
   "execution_count": 39,
   "metadata": {},
   "outputs": [],
   "source": [
    "scoring = {'accuracy' : make_scorer(accuracy_score),\n",
    "           'precision' : make_scorer(precision_score),\n",
    "           'recall' : make_scorer(recall_score),\n",
    "           'f1_score' : make_scorer(f1_score)}"
   ]
  },
  {
   "cell_type": "code",
   "execution_count": 40,
   "metadata": {},
   "outputs": [],
   "source": [
    "log_pipe = Pipeline([('logres', LogisticRegression())])\n",
    "\n",
    "logsc = []\n",
    "for i in reversed(range(4, 9)):\n",
    "    x = str(i)\n",
    "    logsc.append(logres_default_validation_func(data['Xtrsm'+x], data['ytrsm'+x], 'S'+x))\n",
    "\n",
    "logsc = pd.DataFrame(logsc, columns=['Sem','Acc', 'Pre', 'Rec', 'F1'])\n",
    "logsc.to_csv('Datasets/Result/def-val-logres.csv')"
   ]
  },
  {
   "cell_type": "markdown",
   "metadata": {},
   "source": [
    "Here we can see the validation results of each dataset using Logistic Regression with default config"
   ]
  },
  {
   "cell_type": "code",
   "execution_count": 41,
   "metadata": {},
   "outputs": [
    {
     "data": {
      "text/html": [
       "<div>\n",
       "<style scoped>\n",
       "    .dataframe tbody tr th:only-of-type {\n",
       "        vertical-align: middle;\n",
       "    }\n",
       "\n",
       "    .dataframe tbody tr th {\n",
       "        vertical-align: top;\n",
       "    }\n",
       "\n",
       "    .dataframe thead th {\n",
       "        text-align: right;\n",
       "    }\n",
       "</style>\n",
       "<table border=\"1\" class=\"dataframe\">\n",
       "  <thead>\n",
       "    <tr style=\"text-align: right;\">\n",
       "      <th></th>\n",
       "      <th>Sem</th>\n",
       "      <th>Acc</th>\n",
       "      <th>Pre</th>\n",
       "      <th>Rec</th>\n",
       "      <th>F1</th>\n",
       "    </tr>\n",
       "  </thead>\n",
       "  <tbody>\n",
       "    <tr>\n",
       "      <th>0</th>\n",
       "      <td>S8</td>\n",
       "      <td>0.8932</td>\n",
       "      <td>0.8969</td>\n",
       "      <td>0.9025</td>\n",
       "      <td>0.8995</td>\n",
       "    </tr>\n",
       "    <tr>\n",
       "      <th>1</th>\n",
       "      <td>S7</td>\n",
       "      <td>0.9045</td>\n",
       "      <td>0.9080</td>\n",
       "      <td>0.9129</td>\n",
       "      <td>0.9103</td>\n",
       "    </tr>\n",
       "    <tr>\n",
       "      <th>2</th>\n",
       "      <td>S6</td>\n",
       "      <td>0.8845</td>\n",
       "      <td>0.8909</td>\n",
       "      <td>0.8937</td>\n",
       "      <td>0.8920</td>\n",
       "    </tr>\n",
       "    <tr>\n",
       "      <th>3</th>\n",
       "      <td>S5</td>\n",
       "      <td>0.8806</td>\n",
       "      <td>0.8836</td>\n",
       "      <td>0.8921</td>\n",
       "      <td>0.8876</td>\n",
       "    </tr>\n",
       "    <tr>\n",
       "      <th>4</th>\n",
       "      <td>S4</td>\n",
       "      <td>0.8716</td>\n",
       "      <td>0.8723</td>\n",
       "      <td>0.8880</td>\n",
       "      <td>0.8796</td>\n",
       "    </tr>\n",
       "  </tbody>\n",
       "</table>\n",
       "</div>"
      ],
      "text/plain": [
       "  Sem     Acc     Pre     Rec      F1\n",
       "0  S8  0.8932  0.8969  0.9025  0.8995\n",
       "1  S7  0.9045  0.9080  0.9129  0.9103\n",
       "2  S6  0.8845  0.8909  0.8937  0.8920\n",
       "3  S5  0.8806  0.8836  0.8921  0.8876\n",
       "4  S4  0.8716  0.8723  0.8880  0.8796"
      ]
     },
     "execution_count": 41,
     "metadata": {},
     "output_type": "execute_result"
    }
   ],
   "source": [
    "logsc"
   ]
  },
  {
   "cell_type": "markdown",
   "metadata": {},
   "source": [
    "### Hyperparameter Tuning LogRes"
   ]
  },
  {
   "cell_type": "code",
   "execution_count": 42,
   "metadata": {},
   "outputs": [],
   "source": [
    "#oh = optimal hyperparameter\n",
    "log_oh = []\n",
    "\n",
    "for i in reversed(range(4, 9)):\n",
    "    x = str(i)\n",
    "    log_oh.append(logres_hyparam_tuning_func(data['Xtrsm'+x], data['ytrsm'+x], 'accuracy', 'S'+x))\n",
    "\n",
    "log_oh = pd.DataFrame(log_oh, columns=['Sem', 'C', 'Max_iter', 'HiScore'])"
   ]
  },
  {
   "cell_type": "markdown",
   "metadata": {},
   "source": [
    "In the dataframe below we can see the best combination of hyperparameter for each dataset"
   ]
  },
  {
   "cell_type": "code",
   "execution_count": 43,
   "metadata": {},
   "outputs": [
    {
     "data": {
      "text/html": [
       "<div>\n",
       "<style scoped>\n",
       "    .dataframe tbody tr th:only-of-type {\n",
       "        vertical-align: middle;\n",
       "    }\n",
       "\n",
       "    .dataframe tbody tr th {\n",
       "        vertical-align: top;\n",
       "    }\n",
       "\n",
       "    .dataframe thead th {\n",
       "        text-align: right;\n",
       "    }\n",
       "</style>\n",
       "<table border=\"1\" class=\"dataframe\">\n",
       "  <thead>\n",
       "    <tr style=\"text-align: right;\">\n",
       "      <th></th>\n",
       "      <th>Sem</th>\n",
       "      <th>C</th>\n",
       "      <th>Max_iter</th>\n",
       "      <th>HiScore</th>\n",
       "    </tr>\n",
       "  </thead>\n",
       "  <tbody>\n",
       "    <tr>\n",
       "      <th>0</th>\n",
       "      <td>S8</td>\n",
       "      <td>0.001</td>\n",
       "      <td>500</td>\n",
       "      <td>0.896</td>\n",
       "    </tr>\n",
       "    <tr>\n",
       "      <th>1</th>\n",
       "      <td>S7</td>\n",
       "      <td>10.000</td>\n",
       "      <td>500</td>\n",
       "      <td>0.905</td>\n",
       "    </tr>\n",
       "    <tr>\n",
       "      <th>2</th>\n",
       "      <td>S6</td>\n",
       "      <td>0.100</td>\n",
       "      <td>500</td>\n",
       "      <td>0.886</td>\n",
       "    </tr>\n",
       "    <tr>\n",
       "      <th>3</th>\n",
       "      <td>S5</td>\n",
       "      <td>0.100</td>\n",
       "      <td>500</td>\n",
       "      <td>0.881</td>\n",
       "    </tr>\n",
       "    <tr>\n",
       "      <th>4</th>\n",
       "      <td>S4</td>\n",
       "      <td>0.100</td>\n",
       "      <td>500</td>\n",
       "      <td>0.872</td>\n",
       "    </tr>\n",
       "  </tbody>\n",
       "</table>\n",
       "</div>"
      ],
      "text/plain": [
       "  Sem       C  Max_iter HiScore\n",
       "0  S8   0.001       500   0.896\n",
       "1  S7  10.000       500   0.905\n",
       "2  S6   0.100       500   0.886\n",
       "3  S5   0.100       500   0.881\n",
       "4  S4   0.100       500   0.872"
      ]
     },
     "execution_count": 43,
     "metadata": {},
     "output_type": "execute_result"
    }
   ],
   "source": [
    "log_oh"
   ]
  },
  {
   "cell_type": "markdown",
   "metadata": {},
   "source": [
    "#### Fit optimal hyperparameter"
   ]
  },
  {
   "cell_type": "code",
   "execution_count": 44,
   "metadata": {},
   "outputs": [],
   "source": [
    "# Fitted Hyperparameter Score\n",
    "log_fhs = []\n",
    "\n",
    "for i in range(4, 9):\n",
    "    x = str(i)\n",
    "    C, max_i = log_oh.iloc[i-4][1], log_oh.iloc[i-4][2]\n",
    "    log_fhs.append(logres_fit_hyparam_func(data['Xtrsm'+x], data['ytrsm'+x], C, max_i, 'S'+x))\n",
    "\n",
    "log_fhs = pd.DataFrame(log_fhs, columns=['Sem','Acc', 'Pre', 'Rec', 'F1'])\n",
    "log_fhs.sort_values(by='Sem', ascending=False, inplace=True)\n",
    "log_fhs.reset_index(drop=True, inplace=True)"
   ]
  },
  {
   "cell_type": "markdown",
   "metadata": {},
   "source": [
    "Below is the validation result after fitting the optimal hyperparameter to the model"
   ]
  },
  {
   "cell_type": "code",
   "execution_count": 45,
   "metadata": {},
   "outputs": [
    {
     "data": {
      "text/html": [
       "<div>\n",
       "<style scoped>\n",
       "    .dataframe tbody tr th:only-of-type {\n",
       "        vertical-align: middle;\n",
       "    }\n",
       "\n",
       "    .dataframe tbody tr th {\n",
       "        vertical-align: top;\n",
       "    }\n",
       "\n",
       "    .dataframe thead th {\n",
       "        text-align: right;\n",
       "    }\n",
       "</style>\n",
       "<table border=\"1\" class=\"dataframe\">\n",
       "  <thead>\n",
       "    <tr style=\"text-align: right;\">\n",
       "      <th></th>\n",
       "      <th>Sem</th>\n",
       "      <th>Acc</th>\n",
       "      <th>Pre</th>\n",
       "      <th>Rec</th>\n",
       "      <th>F1</th>\n",
       "    </tr>\n",
       "  </thead>\n",
       "  <tbody>\n",
       "    <tr>\n",
       "      <th>0</th>\n",
       "      <td>S8</td>\n",
       "      <td>0.8928</td>\n",
       "      <td>0.8969</td>\n",
       "      <td>0.9017</td>\n",
       "      <td>0.8991</td>\n",
       "    </tr>\n",
       "    <tr>\n",
       "      <th>1</th>\n",
       "      <td>S7</td>\n",
       "      <td>0.9045</td>\n",
       "      <td>0.9087</td>\n",
       "      <td>0.9121</td>\n",
       "      <td>0.9102</td>\n",
       "    </tr>\n",
       "    <tr>\n",
       "      <th>2</th>\n",
       "      <td>S6</td>\n",
       "      <td>0.8859</td>\n",
       "      <td>0.8918</td>\n",
       "      <td>0.8953</td>\n",
       "      <td>0.8933</td>\n",
       "    </tr>\n",
       "    <tr>\n",
       "      <th>3</th>\n",
       "      <td>S5</td>\n",
       "      <td>0.8806</td>\n",
       "      <td>0.8836</td>\n",
       "      <td>0.8921</td>\n",
       "      <td>0.8876</td>\n",
       "    </tr>\n",
       "    <tr>\n",
       "      <th>4</th>\n",
       "      <td>S4</td>\n",
       "      <td>0.8693</td>\n",
       "      <td>0.8704</td>\n",
       "      <td>0.8863</td>\n",
       "      <td>0.8776</td>\n",
       "    </tr>\n",
       "  </tbody>\n",
       "</table>\n",
       "</div>"
      ],
      "text/plain": [
       "  Sem     Acc     Pre     Rec      F1\n",
       "0  S8  0.8928  0.8969  0.9017  0.8991\n",
       "1  S7  0.9045  0.9087  0.9121  0.9102\n",
       "2  S6  0.8859  0.8918  0.8953  0.8933\n",
       "3  S5  0.8806  0.8836  0.8921  0.8876\n",
       "4  S4  0.8693  0.8704  0.8863  0.8776"
      ]
     },
     "execution_count": 45,
     "metadata": {},
     "output_type": "execute_result"
    }
   ],
   "source": [
    "log_fhs"
   ]
  },
  {
   "cell_type": "markdown",
   "metadata": {},
   "source": [
    "The best dataset to use is Sem8 dataset, so we'll train the model using sem 8 dataset then we measure how the model perform using all dataset"
   ]
  },
  {
   "cell_type": "markdown",
   "metadata": {},
   "source": [
    "### Logistic Regression Test Score"
   ]
  },
  {
   "cell_type": "code",
   "execution_count": 46,
   "metadata": {},
   "outputs": [],
   "source": [
    "model_log = LogisticRegression(C=0.001, max_iter=500).fit(data['Xtrsm8'], data['ytrsm8'])\n",
    "\n",
    "log_tesc = [] # logistic regression test score\n",
    "\n",
    "for i in reversed(range(4, 9)):\n",
    "    x = str(i)\n",
    "    log_tesc.append(test_score_func(model_log, data['Xte'+x], data['yte'+x], 'S'+x))\n",
    "\n",
    "log_tesc = pd.DataFrame(log_tesc, columns=['Sem','Acc', 'Pre', 'Rec', 'F1'])"
   ]
  },
  {
   "cell_type": "markdown",
   "metadata": {},
   "source": [
    "In the dataframe below we can see how our model perform to each dataset"
   ]
  },
  {
   "cell_type": "code",
   "execution_count": 47,
   "metadata": {},
   "outputs": [
    {
     "data": {
      "text/html": [
       "<div>\n",
       "<style scoped>\n",
       "    .dataframe tbody tr th:only-of-type {\n",
       "        vertical-align: middle;\n",
       "    }\n",
       "\n",
       "    .dataframe tbody tr th {\n",
       "        vertical-align: top;\n",
       "    }\n",
       "\n",
       "    .dataframe thead th {\n",
       "        text-align: right;\n",
       "    }\n",
       "</style>\n",
       "<table border=\"1\" class=\"dataframe\">\n",
       "  <thead>\n",
       "    <tr style=\"text-align: right;\">\n",
       "      <th></th>\n",
       "      <th>Sem</th>\n",
       "      <th>Acc</th>\n",
       "      <th>Pre</th>\n",
       "      <th>Rec</th>\n",
       "      <th>F1</th>\n",
       "    </tr>\n",
       "  </thead>\n",
       "  <tbody>\n",
       "    <tr>\n",
       "      <th>0</th>\n",
       "      <td>S8</td>\n",
       "      <td>0.7378</td>\n",
       "      <td>0.3720</td>\n",
       "      <td>0.6814</td>\n",
       "      <td>0.4813</td>\n",
       "    </tr>\n",
       "    <tr>\n",
       "      <th>1</th>\n",
       "      <td>S7</td>\n",
       "      <td>0.7267</td>\n",
       "      <td>0.3571</td>\n",
       "      <td>0.6637</td>\n",
       "      <td>0.4644</td>\n",
       "    </tr>\n",
       "    <tr>\n",
       "      <th>2</th>\n",
       "      <td>S6</td>\n",
       "      <td>0.7235</td>\n",
       "      <td>0.3495</td>\n",
       "      <td>0.6372</td>\n",
       "      <td>0.4514</td>\n",
       "    </tr>\n",
       "    <tr>\n",
       "      <th>3</th>\n",
       "      <td>S5</td>\n",
       "      <td>0.7156</td>\n",
       "      <td>0.3427</td>\n",
       "      <td>0.6460</td>\n",
       "      <td>0.4479</td>\n",
       "    </tr>\n",
       "    <tr>\n",
       "      <th>4</th>\n",
       "      <td>S4</td>\n",
       "      <td>0.7188</td>\n",
       "      <td>0.3460</td>\n",
       "      <td>0.6460</td>\n",
       "      <td>0.4506</td>\n",
       "    </tr>\n",
       "  </tbody>\n",
       "</table>\n",
       "</div>"
      ],
      "text/plain": [
       "  Sem     Acc     Pre     Rec      F1\n",
       "0  S8  0.7378  0.3720  0.6814  0.4813\n",
       "1  S7  0.7267  0.3571  0.6637  0.4644\n",
       "2  S6  0.7235  0.3495  0.6372  0.4514\n",
       "3  S5  0.7156  0.3427  0.6460  0.4479\n",
       "4  S4  0.7188  0.3460  0.6460  0.4506"
      ]
     },
     "execution_count": 47,
     "metadata": {},
     "output_type": "execute_result"
    }
   ],
   "source": [
    "log_tesc"
   ]
  },
  {
   "cell_type": "code",
   "execution_count": 48,
   "metadata": {},
   "outputs": [
    {
     "data": {
      "image/png": "[encoded data removed]",
      "text/plain": [
       "<Figure size 1080x360 with 2 Axes>"
      ]
     },
     "metadata": {
      "needs_background": "light"
     },
     "output_type": "display_data"
    }
   ],
   "source": [
    "# plotting the decision boundary in the scatter plot of Training and Test Set with labels indicated by colors\n",
    "X_trsm = data['Xtrsm8']\n",
    "y_trsm = data['ytrsm8']\n",
    "\n",
    "x_min, x_max = X_trsm[:, 0].min() - 1, X_trsm[:, 0].max() + 1\n",
    "y_min, y_max = X_trsm[:, 1].min() - 1, X_trsm[:, 1].max() + 1\n",
    "\n",
    "xx_train, yy_train = np.meshgrid(np.arange(x_min, x_max, 0.1),\n",
    "                                 np.arange(y_min, y_max, 0.1))\n",
    "\n",
    "Z_train = model_log.predict(np.c_[xx_train.ravel(), yy_train.ravel()])\n",
    "Z_train = Z_train.reshape(xx_train.shape)\n",
    "########################################################################\n",
    "X_te = data['Xte8']\n",
    "y_te = data['yte8']\n",
    "\n",
    "#x_min, x_max = X_te[:, 0].min() - 1, X_te[:, 0].max() + 1\n",
    "#y_min, y_max = X_te[:, 1].min() - 1, X_te[:, 1].max() + 1\n",
    "\n",
    "xx_test, yy_test = np.meshgrid(np.arange(x_min, x_max, 0.1),\n",
    "                               np.arange(y_min, y_max, 0.1))\n",
    "\n",
    "Z_test = model_log.predict(np.c_[xx_test.ravel(), yy_test.ravel()])\n",
    "Z_test = Z_test.reshape(xx_test.shape)\n",
    "#########################################################################\n",
    "\n",
    "\n",
    "\n",
    "X_trsm = pd.DataFrame(X_trsm, columns=['a', 'b'])\n",
    "X_trsm['y'] = y_trsm\n",
    "X_te = pd.DataFrame(X_te, columns=['a', 'b'])\n",
    "X_te['y'] = y_te\n",
    "\n",
    "Xtr_ams = X_trsm[X_trsm['y'] == 1]\n",
    "Xtr_nams = X_trsm[X_trsm['y'] == 0]\n",
    "Xte_ams = X_te[X_te['y'] == 1]\n",
    "Xte_nams = X_te[X_te['y'] == 0]\n",
    "\n",
    "Xtr_ams.drop(['y'], axis=1, inplace=True)\n",
    "Xtr_nams.drop(['y'], axis=1, inplace=True)\n",
    "Xte_ams.drop(['y'], axis=1, inplace=True)\n",
    "Xte_nams.drop(['y'], axis=1, inplace=True)\n",
    "\n",
    "Xtr_ams = Xtr_ams.to_numpy()\n",
    "Xtr_nams = Xtr_nams.to_numpy()\n",
    "Xte_ams = Xte_ams.to_numpy()\n",
    "Xte_nams = Xte_nams.to_numpy()\n",
    "\n",
    "\n",
    "fig, ax = plt.subplots(1, 2, figsize=(15, 5), sharex=True, sharey=True)\n",
    "fig.subplots_adjust(wspace=0)\n",
    "fig.supxlabel('1st Principal Component')\n",
    "fig.supylabel('2nd Principal Component', x=0.09)\n",
    "\n",
    "ax[0].contourf(xx_train, yy_train, Z_train, cmap='PuBu')\n",
    "ax[0].scatter(Xtr_ams[:, 0], Xtr_ams[:, 1], c='yellow', edgecolor='k', label='AMS')\n",
    "ax[0].scatter(Xtr_nams[:, 0], Xtr_nams[:, 1], c='red', edgecolor='k', label='Non-AMS')\n",
    "ax[0].set_title('Logistic Regression Model Decision Boundary')\n",
    "\n",
    "\n",
    "ax[1].contourf(xx_test, yy_test, Z_test, cmap='PuBu')\n",
    "ax[1].scatter(Xte_ams[:, 0], Xte_ams[:, 1], c='yellow', edgecolor='k', label='AMS')\n",
    "ax[1].scatter(Xte_nams[:, 0], Xte_nams[:, 1], c='red', edgecolor='k', label='Non-AMS')\n",
    "ax[1].set_title('Test Dataset against Model Decision Boundary')\n",
    "ax[1].legend(loc='upper center', bbox_to_anchor=(0, .9), shadow=True)\n",
    "plt.savefig('logres_decision_boundary.png', bbox_inches='tight')\n",
    "plt.show()\n"
   ]
  },
  {
   "cell_type": "markdown",
   "metadata": {},
   "source": [
    "### Default Config kNN"
   ]
  },
  {
   "cell_type": "code",
   "execution_count": 49,
   "metadata": {},
   "outputs": [],
   "source": [
    "knn_pipe = Pipeline([('knn', KNeighborsClassifier())])\n",
    "\n",
    "knnsc = []\n",
    "\n",
    "for i in reversed(range(4, 9)):\n",
    "    x = str(i)\n",
    "    knnsc.append(knn_default_validation_func(data['Xtrsm'+x], data['ytrsm'+x], 'S'+x))\n",
    "    \n",
    "knnsc = pd.DataFrame(knnsc, columns=['Sem','Acc', 'Pre', 'Rec', 'F1'])"
   ]
  },
  {
   "cell_type": "code",
   "execution_count": 50,
   "metadata": {},
   "outputs": [
    {
     "data": {
      "text/html": [
       "<div>\n",
       "<style scoped>\n",
       "    .dataframe tbody tr th:only-of-type {\n",
       "        vertical-align: middle;\n",
       "    }\n",
       "\n",
       "    .dataframe tbody tr th {\n",
       "        vertical-align: top;\n",
       "    }\n",
       "\n",
       "    .dataframe thead th {\n",
       "        text-align: right;\n",
       "    }\n",
       "</style>\n",
       "<table border=\"1\" class=\"dataframe\">\n",
       "  <thead>\n",
       "    <tr style=\"text-align: right;\">\n",
       "      <th></th>\n",
       "      <th>Sem</th>\n",
       "      <th>Acc</th>\n",
       "      <th>Pre</th>\n",
       "      <th>Rec</th>\n",
       "      <th>F1</th>\n",
       "    </tr>\n",
       "  </thead>\n",
       "  <tbody>\n",
       "    <tr>\n",
       "      <th>0</th>\n",
       "      <td>S8</td>\n",
       "      <td>0.9621</td>\n",
       "      <td>0.9594</td>\n",
       "      <td>0.9699</td>\n",
       "      <td>0.9644</td>\n",
       "    </tr>\n",
       "    <tr>\n",
       "      <th>1</th>\n",
       "      <td>S7</td>\n",
       "      <td>0.9676</td>\n",
       "      <td>0.9549</td>\n",
       "      <td>0.9857</td>\n",
       "      <td>0.9700</td>\n",
       "    </tr>\n",
       "    <tr>\n",
       "      <th>2</th>\n",
       "      <td>S6</td>\n",
       "      <td>0.9533</td>\n",
       "      <td>0.9455</td>\n",
       "      <td>0.9687</td>\n",
       "      <td>0.9568</td>\n",
       "    </tr>\n",
       "    <tr>\n",
       "      <th>3</th>\n",
       "      <td>S5</td>\n",
       "      <td>0.9514</td>\n",
       "      <td>0.9429</td>\n",
       "      <td>0.9671</td>\n",
       "      <td>0.9547</td>\n",
       "    </tr>\n",
       "    <tr>\n",
       "      <th>4</th>\n",
       "      <td>S4</td>\n",
       "      <td>0.9551</td>\n",
       "      <td>0.9428</td>\n",
       "      <td>0.9754</td>\n",
       "      <td>0.9586</td>\n",
       "    </tr>\n",
       "  </tbody>\n",
       "</table>\n",
       "</div>"
      ],
      "text/plain": [
       "  Sem     Acc     Pre     Rec      F1\n",
       "0  S8  0.9621  0.9594  0.9699  0.9644\n",
       "1  S7  0.9676  0.9549  0.9857  0.9700\n",
       "2  S6  0.9533  0.9455  0.9687  0.9568\n",
       "3  S5  0.9514  0.9429  0.9671  0.9547\n",
       "4  S4  0.9551  0.9428  0.9754  0.9586"
      ]
     },
     "execution_count": 50,
     "metadata": {},
     "output_type": "execute_result"
    }
   ],
   "source": [
    "knnsc"
   ]
  },
  {
   "cell_type": "markdown",
   "metadata": {},
   "source": [
    "### Hyperparameter Tuning kNN"
   ]
  },
  {
   "cell_type": "code",
   "execution_count": null,
   "metadata": {},
   "outputs": [],
   "source": []
  },
  {
   "cell_type": "code",
   "execution_count": 51,
   "metadata": {},
   "outputs": [],
   "source": [
    "k_range = range(1, 55)\n",
    "weight_options = ['uniform', 'distance']\n",
    "\n",
    "knn_oh = []\n",
    "\n",
    "for i in reversed(range(4, 9)):\n",
    "    x = str(i)\n",
    "    knn_oh.append(knn_hyparam_tuning_func(data['Xtrsm'+x], data['ytrsm'+x], 'accuracy', 'S'+x))\n",
    "    \n",
    "knn_oh = pd.DataFrame(knn_oh, columns=['Sem','K', 'WeightOp', 'HiScore'])"
   ]
  },
  {
   "cell_type": "markdown",
   "metadata": {},
   "source": [
    "&emsp;&emsp;The optimal combination of KNN hyperparameter is out, but for all the dataset, the optimal value for hyperparameter K is 1. That is actually make sense given the data we have. Take a look at how our data spread after we applied hybrid sampling. Most of the data points are placed very close with their neighbor data points. So that only make sense that the KNN algorithm would be picking 1 as the number of neighbor to take into consideration when classifying, since it would be correct most of the time. But we can't use 1 for our K because we would be overfitting the model, so we need another method to find an optimal K value."
   ]
  },
  {
   "cell_type": "code",
   "execution_count": 52,
   "metadata": {
    "scrolled": true
   },
   "outputs": [
    {
     "data": {
      "text/html": [
       "<div>\n",
       "<style scoped>\n",
       "    .dataframe tbody tr th:only-of-type {\n",
       "        vertical-align: middle;\n",
       "    }\n",
       "\n",
       "    .dataframe tbody tr th {\n",
       "        vertical-align: top;\n",
       "    }\n",
       "\n",
       "    .dataframe thead th {\n",
       "        text-align: right;\n",
       "    }\n",
       "</style>\n",
       "<table border=\"1\" class=\"dataframe\">\n",
       "  <thead>\n",
       "    <tr style=\"text-align: right;\">\n",
       "      <th></th>\n",
       "      <th>Sem</th>\n",
       "      <th>K</th>\n",
       "      <th>WeightOp</th>\n",
       "      <th>HiScore</th>\n",
       "    </tr>\n",
       "  </thead>\n",
       "  <tbody>\n",
       "    <tr>\n",
       "      <th>0</th>\n",
       "      <td>S8</td>\n",
       "      <td>1</td>\n",
       "      <td>uniform</td>\n",
       "      <td>0.986</td>\n",
       "    </tr>\n",
       "    <tr>\n",
       "      <th>1</th>\n",
       "      <td>S7</td>\n",
       "      <td>1</td>\n",
       "      <td>uniform</td>\n",
       "      <td>0.991</td>\n",
       "    </tr>\n",
       "    <tr>\n",
       "      <th>2</th>\n",
       "      <td>S6</td>\n",
       "      <td>1</td>\n",
       "      <td>uniform</td>\n",
       "      <td>0.993</td>\n",
       "    </tr>\n",
       "    <tr>\n",
       "      <th>3</th>\n",
       "      <td>S5</td>\n",
       "      <td>1</td>\n",
       "      <td>uniform</td>\n",
       "      <td>0.991</td>\n",
       "    </tr>\n",
       "    <tr>\n",
       "      <th>4</th>\n",
       "      <td>S4</td>\n",
       "      <td>1</td>\n",
       "      <td>uniform</td>\n",
       "      <td>0.988</td>\n",
       "    </tr>\n",
       "  </tbody>\n",
       "</table>\n",
       "</div>"
      ],
      "text/plain": [
       "  Sem  K WeightOp HiScore\n",
       "0  S8  1  uniform   0.986\n",
       "1  S7  1  uniform   0.991\n",
       "2  S6  1  uniform   0.993\n",
       "3  S5  1  uniform   0.991\n",
       "4  S4  1  uniform   0.988"
      ]
     },
     "execution_count": 52,
     "metadata": {},
     "output_type": "execute_result"
    }
   ],
   "source": [
    "knn_oh"
   ]
  },
  {
   "cell_type": "markdown",
   "metadata": {},
   "source": [
    "We're going to do a hyperparameter tuning using error rate"
   ]
  },
  {
   "cell_type": "code",
   "execution_count": 53,
   "metadata": {},
   "outputs": [],
   "source": [
    "weightop = ['uniform', 'distance']\n",
    "temp = []\n",
    "res = []\n",
    "a = []\n",
    "error_rate = []\n",
    "for x in range(4,9):\n",
    "    for w in range(len(weightop)):\n",
    "        for i in range(1,55):\n",
    "            knn = KNeighborsClassifier(n_neighbors=i, weights=weightop[w])\n",
    "            knn.fit(data['Xtrsm'+str(x)],data['ytrsm'+str(x)])\n",
    "            pred_i = knn.predict(data['Xte'+str(x)])\n",
    "            temp.append(np.mean(pred_i != data['yte'+str(x)]))\n",
    "        error_rate.append(temp)\n",
    "        er_i = len(error_rate)-1\n",
    "        a.append('Sem'+str(x))\n",
    "        a.append(weightop[w])\n",
    "        a.append('{:.4f}'.format(min(error_rate[er_i])))\n",
    "        a.append(error_rate[er_i].index(min(error_rate[er_i])) + 1)\n",
    "        res.append(a)\n",
    "        a = []\n",
    "        temp = []\n",
    "\n",
    "\n",
    "for i in range(0, 10, 2):\n",
    "    if res[i][2] < res[i+1][2]:\n",
    "        temp.append(res[i])\n",
    "    else:\n",
    "        temp.append(res[i+1])\n",
    "\n",
    "temp, res = res, temp"
   ]
  },
  {
   "cell_type": "code",
   "execution_count": 54,
   "metadata": {},
   "outputs": [
    {
     "data": {
      "text/plain": [
       "[['Sem4', 'uniform', '0.2844', 50],\n",
       " ['Sem4', 'distance', '0.2891', 45],\n",
       " ['Sem5', 'uniform', '0.2859', 46],\n",
       " ['Sem5', 'distance', '0.3033', 53],\n",
       " ['Sem6', 'uniform', '0.2875', 12],\n",
       " ['Sem6', 'distance', '0.2859', 51],\n",
       " ['Sem7', 'uniform', '0.2654', 54],\n",
       " ['Sem7', 'distance', '0.2859', 53],\n",
       " ['Sem8', 'uniform', '0.2591', 54],\n",
       " ['Sem8', 'distance', '0.2844', 45]]"
      ]
     },
     "execution_count": 54,
     "metadata": {},
     "output_type": "execute_result"
    }
   ],
   "source": [
    "temp"
   ]
  },
  {
   "cell_type": "code",
   "execution_count": 55,
   "metadata": {},
   "outputs": [],
   "source": [
    "res = pd.DataFrame(res, columns=['Dataset', 'WeightOp', 'ErrorRate', 'K'])\n",
    "res.sort_values(by='ErrorRate', inplace=True)\n",
    "res.reset_index(drop=True, inplace=True)"
   ]
  },
  {
   "cell_type": "code",
   "execution_count": 56,
   "metadata": {
    "scrolled": true
   },
   "outputs": [
    {
     "data": {
      "text/html": [
       "<div>\n",
       "<style scoped>\n",
       "    .dataframe tbody tr th:only-of-type {\n",
       "        vertical-align: middle;\n",
       "    }\n",
       "\n",
       "    .dataframe tbody tr th {\n",
       "        vertical-align: top;\n",
       "    }\n",
       "\n",
       "    .dataframe thead th {\n",
       "        text-align: right;\n",
       "    }\n",
       "</style>\n",
       "<table border=\"1\" class=\"dataframe\">\n",
       "  <thead>\n",
       "    <tr style=\"text-align: right;\">\n",
       "      <th></th>\n",
       "      <th>Dataset</th>\n",
       "      <th>WeightOp</th>\n",
       "      <th>ErrorRate</th>\n",
       "      <th>K</th>\n",
       "    </tr>\n",
       "  </thead>\n",
       "  <tbody>\n",
       "    <tr>\n",
       "      <th>0</th>\n",
       "      <td>Sem8</td>\n",
       "      <td>uniform</td>\n",
       "      <td>0.2591</td>\n",
       "      <td>54</td>\n",
       "    </tr>\n",
       "    <tr>\n",
       "      <th>1</th>\n",
       "      <td>Sem7</td>\n",
       "      <td>uniform</td>\n",
       "      <td>0.2654</td>\n",
       "      <td>54</td>\n",
       "    </tr>\n",
       "    <tr>\n",
       "      <th>2</th>\n",
       "      <td>Sem4</td>\n",
       "      <td>uniform</td>\n",
       "      <td>0.2844</td>\n",
       "      <td>50</td>\n",
       "    </tr>\n",
       "    <tr>\n",
       "      <th>3</th>\n",
       "      <td>Sem5</td>\n",
       "      <td>uniform</td>\n",
       "      <td>0.2859</td>\n",
       "      <td>46</td>\n",
       "    </tr>\n",
       "    <tr>\n",
       "      <th>4</th>\n",
       "      <td>Sem6</td>\n",
       "      <td>distance</td>\n",
       "      <td>0.2859</td>\n",
       "      <td>51</td>\n",
       "    </tr>\n",
       "  </tbody>\n",
       "</table>\n",
       "</div>"
      ],
      "text/plain": [
       "  Dataset  WeightOp ErrorRate   K\n",
       "0    Sem8   uniform    0.2591  54\n",
       "1    Sem7   uniform    0.2654  54\n",
       "2    Sem4   uniform    0.2844  50\n",
       "3    Sem5   uniform    0.2859  46\n",
       "4    Sem6  distance    0.2859  51"
      ]
     },
     "execution_count": 56,
     "metadata": {},
     "output_type": "execute_result"
    }
   ],
   "source": [
    "res"
   ]
  },
  {
   "cell_type": "code",
   "execution_count": 57,
   "metadata": {
    "scrolled": true
   },
   "outputs": [
    {
     "data": {
      "image/png": "[encoded data removed]",
      "text/plain": [
       "<Figure size 1152x360 with 2 Axes>"
      ]
     },
     "metadata": {
      "needs_background": "light"
     },
     "output_type": "display_data"
    }
   ],
   "source": [
    "fig, ax = plt.subplots(1, 2, figsize=(16,5), sharey=True)\n",
    "fig.subplots_adjust(wspace=0)\n",
    "fig.supxlabel('K value')\n",
    "fig.supylabel('Error Rate', x=.084)\n",
    "\n",
    "ax[0].plot(range(1, 55), error_rate[8], marker='o', color='k', markerfacecolor='red', linestyle='--', zorder=3)\n",
    "ax[0].grid(zorder=0, linestyle=':')\n",
    "ax[0].set_xticks(np.arange(1, 55, 2))\n",
    "ax[0].set_title('Error Rate vs. K value | weight = uniform')\n",
    "ax[0].set_xlabel(('Minimum error : '+ str('{:.4f}'.format(min(error_rate[8])))+\n",
    "                     ' at K ='+str(error_rate[8].index(min(error_rate[8])) + 1)))\n",
    "\n",
    "ax[1].plot(range(1, 55), error_rate[9], marker='o', color='k', markerfacecolor='red', linestyle='--', zorder=3)\n",
    "ax[1].grid(zorder=0, linestyle=':')\n",
    "ax[1].set_xticks(np.arange(1, 55, 2))\n",
    "ax[1].set_title('Error Rate vs. K value | weight = distance')\n",
    "ax[1].set_xlabel(('Minimum error : '+ str('{:.4f}'.format(min(error_rate[9])))+\n",
    "                     ' at K ='+str(error_rate[9].index(min(error_rate[9])) + 1)))\n",
    "\n",
    "plt.show()"
   ]
  },
  {
   "cell_type": "code",
   "execution_count": 58,
   "metadata": {},
   "outputs": [
    {
     "data": {
      "text/html": [
       "<div>\n",
       "<style scoped>\n",
       "    .dataframe tbody tr th:only-of-type {\n",
       "        vertical-align: middle;\n",
       "    }\n",
       "\n",
       "    .dataframe tbody tr th {\n",
       "        vertical-align: top;\n",
       "    }\n",
       "\n",
       "    .dataframe thead th {\n",
       "        text-align: right;\n",
       "    }\n",
       "</style>\n",
       "<table border=\"1\" class=\"dataframe\">\n",
       "  <thead>\n",
       "    <tr style=\"text-align: right;\">\n",
       "      <th></th>\n",
       "      <th>Dataset</th>\n",
       "      <th>WeightOp</th>\n",
       "      <th>ErrorRate</th>\n",
       "      <th>K</th>\n",
       "    </tr>\n",
       "  </thead>\n",
       "  <tbody>\n",
       "    <tr>\n",
       "      <th>0</th>\n",
       "      <td>Sem8</td>\n",
       "      <td>uniform</td>\n",
       "      <td>0.2591</td>\n",
       "      <td>54</td>\n",
       "    </tr>\n",
       "    <tr>\n",
       "      <th>1</th>\n",
       "      <td>Sem7</td>\n",
       "      <td>uniform</td>\n",
       "      <td>0.2654</td>\n",
       "      <td>54</td>\n",
       "    </tr>\n",
       "    <tr>\n",
       "      <th>2</th>\n",
       "      <td>Sem4</td>\n",
       "      <td>uniform</td>\n",
       "      <td>0.2844</td>\n",
       "      <td>50</td>\n",
       "    </tr>\n",
       "    <tr>\n",
       "      <th>3</th>\n",
       "      <td>Sem5</td>\n",
       "      <td>uniform</td>\n",
       "      <td>0.2859</td>\n",
       "      <td>46</td>\n",
       "    </tr>\n",
       "    <tr>\n",
       "      <th>4</th>\n",
       "      <td>Sem6</td>\n",
       "      <td>distance</td>\n",
       "      <td>0.2859</td>\n",
       "      <td>51</td>\n",
       "    </tr>\n",
       "  </tbody>\n",
       "</table>\n",
       "</div>"
      ],
      "text/plain": [
       "  Dataset  WeightOp ErrorRate   K\n",
       "0    Sem8   uniform    0.2591  54\n",
       "1    Sem7   uniform    0.2654  54\n",
       "2    Sem4   uniform    0.2844  50\n",
       "3    Sem5   uniform    0.2859  46\n",
       "4    Sem6  distance    0.2859  51"
      ]
     },
     "execution_count": 58,
     "metadata": {},
     "output_type": "execute_result"
    }
   ],
   "source": [
    "res"
   ]
  },
  {
   "cell_type": "markdown",
   "metadata": {},
   "source": [
    "#### fit optimal parameter"
   ]
  },
  {
   "cell_type": "code",
   "execution_count": 60,
   "metadata": {},
   "outputs": [],
   "source": [
    "knn_fhs = []\n",
    "\n",
    "for i in range(4, 9):\n",
    "    x = str(i)\n",
    "    K, weight = res.iloc[i-4][3], res.iloc[i-4][1]\n",
    "    knn_fhs.append(knn_fit_hyparam_func(data['Xtrsm'+x], data['ytrsm'+x], K, weight, 'S'+x))\n",
    "    \n",
    "knn_fhs = pd.DataFrame(knn_fhs, columns=['Sem','Acc', 'Pre', 'Rec', 'F1'])\n",
    "knn_fhs.sort_values(by='Sem', ascending=False, inplace=True)\n",
    "knn_fhs.reset_index(drop=True, inplace=True)"
   ]
  },
  {
   "cell_type": "code",
   "execution_count": 61,
   "metadata": {},
   "outputs": [
    {
     "data": {
      "text/html": [
       "<div>\n",
       "<style scoped>\n",
       "    .dataframe tbody tr th:only-of-type {\n",
       "        vertical-align: middle;\n",
       "    }\n",
       "\n",
       "    .dataframe tbody tr th {\n",
       "        vertical-align: top;\n",
       "    }\n",
       "\n",
       "    .dataframe thead th {\n",
       "        text-align: right;\n",
       "    }\n",
       "</style>\n",
       "<table border=\"1\" class=\"dataframe\">\n",
       "  <thead>\n",
       "    <tr style=\"text-align: right;\">\n",
       "      <th></th>\n",
       "      <th>Sem</th>\n",
       "      <th>Acc</th>\n",
       "      <th>Pre</th>\n",
       "      <th>Rec</th>\n",
       "      <th>F1</th>\n",
       "    </tr>\n",
       "  </thead>\n",
       "  <tbody>\n",
       "    <tr>\n",
       "      <th>0</th>\n",
       "      <td>S8</td>\n",
       "      <td>0.9526</td>\n",
       "      <td>0.9414</td>\n",
       "      <td>0.9716</td>\n",
       "      <td>0.9561</td>\n",
       "    </tr>\n",
       "    <tr>\n",
       "      <th>1</th>\n",
       "      <td>S7</td>\n",
       "      <td>0.9121</td>\n",
       "      <td>0.9211</td>\n",
       "      <td>0.9129</td>\n",
       "      <td>0.9168</td>\n",
       "    </tr>\n",
       "    <tr>\n",
       "      <th>2</th>\n",
       "      <td>S6</td>\n",
       "      <td>0.8810</td>\n",
       "      <td>0.8879</td>\n",
       "      <td>0.8904</td>\n",
       "      <td>0.8888</td>\n",
       "    </tr>\n",
       "    <tr>\n",
       "      <th>3</th>\n",
       "      <td>S5</td>\n",
       "      <td>0.8748</td>\n",
       "      <td>0.8929</td>\n",
       "      <td>0.8684</td>\n",
       "      <td>0.8801</td>\n",
       "    </tr>\n",
       "    <tr>\n",
       "      <th>4</th>\n",
       "      <td>S4</td>\n",
       "      <td>0.8787</td>\n",
       "      <td>0.8895</td>\n",
       "      <td>0.8812</td>\n",
       "      <td>0.8847</td>\n",
       "    </tr>\n",
       "  </tbody>\n",
       "</table>\n",
       "</div>"
      ],
      "text/plain": [
       "  Sem     Acc     Pre     Rec      F1\n",
       "0  S8  0.9526  0.9414  0.9716  0.9561\n",
       "1  S7  0.9121  0.9211  0.9129  0.9168\n",
       "2  S6  0.8810  0.8879  0.8904  0.8888\n",
       "3  S5  0.8748  0.8929  0.8684  0.8801\n",
       "4  S4  0.8787  0.8895  0.8812  0.8847"
      ]
     },
     "execution_count": 61,
     "metadata": {},
     "output_type": "execute_result"
    }
   ],
   "source": [
    "knn_fhs"
   ]
  },
  {
   "cell_type": "markdown",
   "metadata": {},
   "source": [
    "### kNN Test Score"
   ]
  },
  {
   "cell_type": "code",
   "execution_count": 62,
   "metadata": {},
   "outputs": [
    {
     "name": "stdout",
     "output_type": "stream",
     "text": [
      "Model trained with sem6 data\n"
     ]
    }
   ],
   "source": [
    "model_knn = KNeighborsClassifier(n_neighbors=34, weights='distance').fit(data['Xtrsm6'], data['ytrsm6'])\n",
    "print('Model trained with sem6 data')\n",
    "\n",
    "knn_tesc = []\n",
    "\n",
    "for i in reversed(range(4,9)):\n",
    "    x = str(i)\n",
    "    knn_tesc.append(test_score_func(model_knn, data['Xte'+x], data['yte'+x], 'S'+x))\n",
    "    \n",
    "knn_tesc = pd.DataFrame(knn_tesc, columns=['Sem','Acc', 'Pre', 'Rec', 'F1'])"
   ]
  },
  {
   "cell_type": "code",
   "execution_count": 63,
   "metadata": {
    "scrolled": true
   },
   "outputs": [
    {
     "data": {
      "text/html": [
       "<div>\n",
       "<style scoped>\n",
       "    .dataframe tbody tr th:only-of-type {\n",
       "        vertical-align: middle;\n",
       "    }\n",
       "\n",
       "    .dataframe tbody tr th {\n",
       "        vertical-align: top;\n",
       "    }\n",
       "\n",
       "    .dataframe thead th {\n",
       "        text-align: right;\n",
       "    }\n",
       "</style>\n",
       "<table border=\"1\" class=\"dataframe\">\n",
       "  <thead>\n",
       "    <tr style=\"text-align: right;\">\n",
       "      <th></th>\n",
       "      <th>Sem</th>\n",
       "      <th>Acc</th>\n",
       "      <th>Pre</th>\n",
       "      <th>Rec</th>\n",
       "      <th>F1</th>\n",
       "    </tr>\n",
       "  </thead>\n",
       "  <tbody>\n",
       "    <tr>\n",
       "      <th>0</th>\n",
       "      <td>S8</td>\n",
       "      <td>0.7251</td>\n",
       "      <td>0.3581</td>\n",
       "      <td>0.6814</td>\n",
       "      <td>0.4695</td>\n",
       "    </tr>\n",
       "    <tr>\n",
       "      <th>1</th>\n",
       "      <td>S7</td>\n",
       "      <td>0.7093</td>\n",
       "      <td>0.3408</td>\n",
       "      <td>0.6726</td>\n",
       "      <td>0.4524</td>\n",
       "    </tr>\n",
       "    <tr>\n",
       "      <th>2</th>\n",
       "      <td>S6</td>\n",
       "      <td>0.7030</td>\n",
       "      <td>0.3303</td>\n",
       "      <td>0.6460</td>\n",
       "      <td>0.4371</td>\n",
       "    </tr>\n",
       "    <tr>\n",
       "      <th>3</th>\n",
       "      <td>S5</td>\n",
       "      <td>0.7093</td>\n",
       "      <td>0.3450</td>\n",
       "      <td>0.6991</td>\n",
       "      <td>0.4620</td>\n",
       "    </tr>\n",
       "    <tr>\n",
       "      <th>4</th>\n",
       "      <td>S4</td>\n",
       "      <td>0.6840</td>\n",
       "      <td>0.3165</td>\n",
       "      <td>0.6637</td>\n",
       "      <td>0.4286</td>\n",
       "    </tr>\n",
       "  </tbody>\n",
       "</table>\n",
       "</div>"
      ],
      "text/plain": [
       "  Sem     Acc     Pre     Rec      F1\n",
       "0  S8  0.7251  0.3581  0.6814  0.4695\n",
       "1  S7  0.7093  0.3408  0.6726  0.4524\n",
       "2  S6  0.7030  0.3303  0.6460  0.4371\n",
       "3  S5  0.7093  0.3450  0.6991  0.4620\n",
       "4  S4  0.6840  0.3165  0.6637  0.4286"
      ]
     },
     "execution_count": 63,
     "metadata": {},
     "output_type": "execute_result"
    }
   ],
   "source": [
    "knn_tesc"
   ]
  },
  {
   "cell_type": "code",
   "execution_count": 64,
   "metadata": {},
   "outputs": [
    {
     "data": {
      "image/png": "[encoded data removed]",
      "text/plain": [
       "<Figure size 1080x360 with 2 Axes>"
      ]
     },
     "metadata": {
      "needs_background": "light"
     },
     "output_type": "display_data"
    }
   ],
   "source": [
    "# plotting the decision boundary in the scatter plot of Training and Test Set with labels indicated by colors\n",
    "X_trsm = data['Xtrsm8']\n",
    "y_trsm = data['ytrsm8']\n",
    "\n",
    "x_min, x_max = X_trsm[:, 0].min() - 1, X_trsm[:, 0].max() + 1\n",
    "y_min, y_max = X_trsm[:, 1].min() - 1, X_trsm[:, 1].max() + 1\n",
    "\n",
    "xx_train, yy_train = np.meshgrid(np.arange(x_min, x_max, 0.1),\n",
    "                                 np.arange(y_min, y_max, 0.1))\n",
    "\n",
    "Z_train = model_knn.predict(np.c_[xx_train.ravel(), yy_train.ravel()])\n",
    "Z_train = Z_train.reshape(xx_train.shape)\n",
    "########################################################################\n",
    "X_te = data['Xte8']\n",
    "y_te = data['yte8']\n",
    "\n",
    "#x_min, x_max = X_te[:, 0].min() - 1, X_te[:, 0].max() + 1\n",
    "#y_min, y_max = X_te[:, 1].min() - 1, X_te[:, 1].max() + 1\n",
    "\n",
    "xx_test, yy_test = np.meshgrid(np.arange(x_min, x_max, 0.1),\n",
    "                               np.arange(y_min, y_max, 0.1))\n",
    "\n",
    "Z_test = model_knn.predict(np.c_[xx_test.ravel(), yy_test.ravel()])\n",
    "Z_test = Z_test.reshape(xx_test.shape)\n",
    "#########################################################################\n",
    "\n",
    "\n",
    "\n",
    "X_trsm = pd.DataFrame(X_trsm, columns=['a', 'b'])\n",
    "X_trsm['y'] = y_trsm\n",
    "X_te = pd.DataFrame(X_te, columns=['a', 'b'])\n",
    "X_te['y'] = y_te\n",
    "\n",
    "Xtr_ams = X_trsm[X_trsm['y'] == 1]\n",
    "Xtr_nams = X_trsm[X_trsm['y'] == 0]\n",
    "Xte_ams = X_te[X_te['y'] == 1]\n",
    "Xte_nams = X_te[X_te['y'] == 0]\n",
    "\n",
    "Xtr_ams.drop(['y'], axis=1, inplace=True)\n",
    "Xtr_nams.drop(['y'], axis=1, inplace=True)\n",
    "Xte_ams.drop(['y'], axis=1, inplace=True)\n",
    "Xte_nams.drop(['y'], axis=1, inplace=True)\n",
    "\n",
    "Xtr_ams = Xtr_ams.to_numpy()\n",
    "Xtr_nams = Xtr_nams.to_numpy()\n",
    "Xte_ams = Xte_ams.to_numpy()\n",
    "Xte_nams = Xte_nams.to_numpy()\n",
    "\n",
    "\n",
    "fig, ax = plt.subplots(1, 2, figsize=(15, 5), sharex=True, sharey=True)\n",
    "fig.subplots_adjust(wspace=0, hspace=0.1)\n",
    "fig.supxlabel('1st Principal Component')\n",
    "fig.supylabel('2nd Principal Component', x=0.09)\n",
    "\n",
    "ax[0].contourf(xx_train, yy_train, Z_train, cmap='PuBu')\n",
    "ax[0].scatter(Xtr_ams[:, 0], Xtr_ams[:, 1], c='red', edgecolor='k', label='AMS')\n",
    "ax[0].scatter(Xtr_nams[:, 0], Xtr_nams[:, 1], c='yellow', edgecolor='k', label='Non-AMS')\n",
    "ax[0].set_title('kNN Model Decision Boundary')\n",
    "\n",
    "ax[1].contourf(xx_test, yy_test, Z_test, cmap='PuBu')\n",
    "ax[1].scatter(Xte_ams[:, 0], Xte_ams[:, 1], c='red', edgecolor='k', label='AMS')\n",
    "ax[1].scatter(Xte_nams[:, 0], Xte_nams[:, 1], c='yellow', edgecolor='k', label='Non-AMS')\n",
    "ax[1].set_title('Test Dataset against Decision Boundary')\n",
    "ax[1].legend(loc='upper center', bbox_to_anchor=(0, .9), shadow=True)\n",
    "\n",
    "\n",
    "plt.savefig('knn_decision_boundary.png', bbox_inches='tight')\n",
    "plt.show()"
   ]
  },
  {
   "cell_type": "code",
   "execution_count": null,
   "metadata": {},
   "outputs": [],
   "source": []
  },
  {
   "cell_type": "markdown",
   "metadata": {},
   "source": [
    "# "
   ]
  }
 ],
 "metadata": {
  "kernelspec": {
   "display_name": "Python 3",
   "language": "python",
   "name": "python3"
  },
  "language_info": {
   "codemirror_mode": {
    "name": "ipython",
    "version": 3
   },
   "file_extension": ".py",
   "mimetype": "text/x-python",
   "name": "python",
   "nbconvert_exporter": "python",
   "pygments_lexer": "ipython3",
   "version": "3.7.6"
  }
 },
 "nbformat": 4,
 "nbformat_minor": 4
}
